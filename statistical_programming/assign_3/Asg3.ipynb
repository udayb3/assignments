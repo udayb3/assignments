{
 "cells": [
  {
   "cell_type": "markdown",
   "metadata": {},
   "source": [
    "# Modules and Constants used"
   ]
  },
  {
   "cell_type": "code",
   "execution_count": null,
   "metadata": {},
   "outputs": [],
   "source": [
    "import numpy as np\n",
    "import pandas as pd\n",
    "import matplotlib.pyplot as plt\n",
    "import math as mt"
   ]
  },
  {
   "cell_type": "markdown",
   "metadata": {},
   "source": [
    "# 1. Title: _Unveiling Gaussian Secrets_"
   ]
  },
  {
   "cell_type": "markdown",
   "metadata": {},
   "source": [
    "## Functions "
   ]
  },
  {
   "cell_type": "code",
   "execution_count": null,
   "metadata": {},
   "outputs": [],
   "source": [
    "T_value={ '95':1.96 }\n",
    "\n",
    "\n",
    "def mean( dataset: np.array, n: int )->float:\n",
    "  \"\"\"_Summary_\n",
    "      This calculates the mean of the dataset which is provided.\n",
    "  :_Args_\n",
    "    dataset (np.array): This is the dataset for which the mean is to be calculated.\n",
    "  :\n",
    "\n",
    "  \"\"\"\n",
    "  summation:float= sum(dataset)\n",
    "  return (summation/n)\n",
    "\n",
    "def variance( dataset: np.array, n: int, mean: float )->float:\n",
    "  \"\"\"\n",
    "  _Summary_\n",
    "    This function calculates and returns the variance of the dataset. \n",
    "    :_Args_\n",
    "      dataset(numpy array): This is the dataset for which the variance is to be calculated.\n",
    "      n(int): This is the size of the dataset given.\n",
    "\n",
    "    :_Returns_\n",
    "      float: Variance of the datset\n",
    "  \"\"\"\n",
    "  squared_dataset= np.array( [ np.power((x-mean), 2) for x in dataset ])\n",
    "  var= sum(squared_dataset)/n\n",
    "\n",
    "  return var\n",
    "\n",
    "def BM_technique( N:int, mean:float, variance:float )->np.array:\n",
    "  \"\"\"_Summary_\n",
    "      This implements the Box-Muller technique to get the dataset which follows the Gaussian Distribution.\n",
    "\n",
    "    _Args_\n",
    "      \n",
    "    \n",
    "    _Returns_\n",
    "      np.array: It is the numpy array which contains the data related to the point which follow the Gaussian Distribution.\n",
    "    \n",
    "  \"\"\"\n",
    "  \n",
    "\n",
    "  u1= np.random.uniform(0, 1, N)\n",
    "  u2= np.random.uniform(0, 1, N)\n",
    "\n",
    "  R= np.sqrt(-2* np.log(u1) )\n",
    "  cost= np.cos(2 * np.pi * u2 )\n",
    "\n",
    "  Z= R*cost\n",
    "  \n",
    "  X= (Z* np.sqrt(variance)) + mean\n",
    "  return X"
   ]
  },
  {
   "cell_type": "markdown",
   "metadata": {},
   "source": [
    "## Introduction"
   ]
  },
  {
   "cell_type": "markdown",
   "metadata": {},
   "source": [
    "- #### Task 1: We had to generate 10,000 random numbers which follow Gaussian Distribution and exhibit the beauty of Gaussian Fluctuations.\n",
    "\n",
    "- #### Task 2: Decoding the parameters taken $ \\mu $(mean) and $ \\sigma $(variance) and understanding them.\n",
    "\n",
    "- #### Task 3: Finding the expected point, $ \\mu $ and checking the level of predictiveness in the sample.\n",
    "\n",
    "- #### Task 4: Computing a 95% confidence interval for the Normal distribution, finding out the range within which the true mean, μ, lies. Visualizing the findings through a histogram showing the Gaussian fluctuations."
   ]
  },
  {
   "cell_type": "markdown",
   "metadata": {},
   "source": [
    "## _Task 1_"
   ]
  },
  {
   "cell_type": "markdown",
   "metadata": {},
   "source": [
    "### _Methodology_"
   ]
  },
  {
   "cell_type": "markdown",
   "metadata": {},
   "source": [
    "- #### The main idea behind the method used is to generate a dataset from uniform distribution which follows Gaussian distribution.\n",
    "\n",
    "- #### This is done with the help of `Box-Muller Technique` which is defined as follows:\n",
    "  \n",
    "  - #### It can be defined as a alternative way to inverse transform sampling for the Gaussian Distribution. It generates numbers which follow _Standard Normal Distribution_.\n",
    "  \n",
    "  - #### U1 and U2 are the parameters taken for radius and angle which are the samples which follow uniform distribution. Applying the Box-Muller technique makes them follow the normal distribution.\n",
    "  \n",
    "  - #### The formulas used for the Box-Muller transform are:\n",
    "    $$ Z_1 = R\\;\\cos{(\\theta)}\\;=\\;\\sqrt{-2\\ln{U_1}} \\cos{2\\pi U_2}  $$\n",
    "  \n",
    "  - #### Z1 follows standard normal distributions.\n",
    "  \n",
    "  - #### The derivation for the Box-Muller technique involves the use of geometry and Pythogoras theorem. There are reference given for the Box-Muller technique.\n",
    "\n",
    "- #### Since we have standard normal distributions below which are independent of each other, We convert them to variables which are dependent on each other.\n",
    "  $$  X = \\mu_1 + \\sqrt{ \\sigma_1 }\\;\\;z_1  $$\n",
    "\n",
    "- #### Finally, the generated dataset is visualized with the help of _Histogram_."
   ]
  },
  {
   "cell_type": "markdown",
   "metadata": {},
   "source": [
    "### Code"
   ]
  },
  {
   "cell_type": "code",
   "execution_count": null,
   "metadata": {},
   "outputs": [],
   "source": [
    "SIZE1= 10000;  MEAN1= 40;   VAR1= 10\n",
    "\n",
    "# Creating the dataset following normal distribution\n",
    "DATA1= BM_technique( SIZE1, MEAN1, VAR1)\n",
    "DATA1"
   ]
  },
  {
   "cell_type": "markdown",
   "metadata": {},
   "source": [
    "## _Task 2_"
   ]
  },
  {
   "cell_type": "markdown",
   "metadata": {},
   "source": [
    "### _Methodology_"
   ]
  },
  {
   "cell_type": "markdown",
   "metadata": {},
   "source": [
    "- ##### The true mean($ \\mu $) and true variance($\\sigma$) taken in the above sample are 20 and 10 respectively.\n",
    "\n",
    "- ##### However, the mean and variance which are exhibited by the sample are slightly different than the original mean and variance which are taken into account. \n",
    "\n",
    "- ##### The reason for the above condition is because we have taken a sample which follows the normal distribution."
   ]
  },
  {
   "cell_type": "markdown",
   "metadata": {},
   "source": [
    "## _Task 3_"
   ]
  },
  {
   "cell_type": "markdown",
   "metadata": {},
   "source": [
    "### _Methodology_"
   ]
  },
  {
   "cell_type": "markdown",
   "metadata": {},
   "source": [
    "- ##### It can be seen in the above histograms that the frequencies of the numbers exhibit a bell-shaped curve.\n",
    "- ##### The frequencies are negligible after the distance of 10 from the mean as around 99 % of the sample lies in the  $ \\mu \\pm  3\\sigma$."
   ]
  },
  {
   "cell_type": "markdown",
   "metadata": {},
   "source": [
    "### _Code_"
   ]
  },
  {
   "cell_type": "code",
   "execution_count": null,
   "metadata": {},
   "outputs": [],
   "source": [
    "sample1 ={ 'mean': mean(DATA1, SIZE1 ),  'variance': variance(DATA1, SIZE1, mean(DATA1, SIZE1 ) ) }\n",
    "           \n",
    "print(f\"The Mean of the sample generated is {sample1['mean']}\", end=\"\\n\\n\")\n",
    "print(f\"The Variance of the sample generated is {sample1['variance']}\", end=\"\\n\\n\")"
   ]
  },
  {
   "cell_type": "markdown",
   "metadata": {},
   "source": [
    "## _Task 4_"
   ]
  },
  {
   "cell_type": "markdown",
   "metadata": {},
   "source": [
    "### _Methodology_"
   ]
  },
  {
   "cell_type": "markdown",
   "metadata": {},
   "source": [
    "- ##### Here, We compute the 95% confidence interval for the Normal distribution with the help of a pivot variable.\n",
    "\n",
    "- ##### The pivot variable choosen here follows the t-distribution.\n",
    "  #####  $$ T = (X − \\mu)/( S / \\sqrt{n} ) $$\n",
    "\n",
    "- ##### T follows the t-distribution with (n-1) degrees of freedom. For 0 < α < 1, we deﬁne  $ t_{α/2,n−1} $  to be the upper α/2 critical point of a t-distribution with (n − 1) degrees of freedom i.e., $ α/2 = P (T > t_{α/2,n−1} ) $. Deriving the complete relation, we get:\n",
    "  #####  $$ 1-\\alpha \\; = \\; P_\\mu( \\bar{X} \\; - \\; t_{\\alpha/2,n-1}\\frac{S}{\\sqrt{n}} <  \\; \\mu \\; < \\; \\bar{X} \\; + \\; t_{\\alpha/2,n-1}\\frac{S}{\\sqrt{n}} ) \\;  $$\n",
    "\n",
    "- ##### In the above relation, we can get the value for $ \\mu $ by putting the value for $ t_{\\alpha /2,n-1} $ which is in our case is:\n",
    "  #####  $$ t_{0.025,9999} \\; = 1.96\\; $$"
   ]
  },
  {
   "cell_type": "markdown",
   "metadata": {},
   "source": [
    "### _Code_"
   ]
  },
  {
   "cell_type": "code",
   "execution_count": null,
   "metadata": {},
   "outputs": [],
   "source": [
    "limit1= {}\n",
    "\n",
    "limit1['lower']= sample1['mean'] -  T_value['95']* np.sqrt(sample1['variance']/SIZE1)\n",
    "limit1['upper']= sample1['mean'] + T_value['95']* np.sqrt(sample1['variance']/SIZE1) \n",
    "\n",
    "print(f\"The 95% confidence interval is {limit1['lower']} and {limit1['upper']}\")"
   ]
  },
  {
   "cell_type": "markdown",
   "metadata": {},
   "source": [
    "### _Visualization_"
   ]
  },
  {
   "cell_type": "code",
   "execution_count": null,
   "metadata": {},
   "outputs": [],
   "source": [
    "# Options for different bin_Sizes\n",
    "bin1= (35, 70)\n",
    "\n",
    "# Adjusting the figure size and the style to be used \n",
    "plt.figure( figsize=(20,8))\n",
    "plt.style.use( 'seaborn-v0_8' )\n",
    "\n",
    "\n",
    "plt.subplot(1,2,1)\n",
    "plt.title(f\"Gaussian Distribution[ Bins={ bin1[0] } ]\")\n",
    "plt.xlabel(\"Sample\"); plt.ylabel(\"Frequencies\")\n",
    "plt.hist(DATA1, color=\"green\", bins= bin1[0], linewidth=1, edgecolor=\"blue\")\n",
    "\n",
    "# Changing the bin-size\n",
    "plt.subplot(1,2,2)\n",
    "plt.title(f\"Gaussian Distribution[ Bins={ bin1[1] } ]\")\n",
    "plt.xlabel(\"Sample\"); plt.ylabel(\"Frequencies\")\n",
    "plt.hist(DATA1, color=\"green\", bins= bin1[1], linewidth=1, edgecolor=\"blue\")\n",
    "\n",
    "\n",
    "# Showing the histogram\n",
    "plt.show()"
   ]
  },
  {
   "cell_type": "markdown",
   "metadata": {},
   "source": [
    "## _Observations_"
   ]
  },
  {
   "cell_type": "markdown",
   "metadata": {},
   "source": [
    "- #### Below, I have defined the 10 observations for the lower and upper 95% confidence values.\n",
    "  | Index | Lower Bound on $ \\mu $ | Upper Bound on $ \\mu $ |\n",
    "  | --- | --- | ---|\n",
    "  | 1. | 39.90 | 40.02 |\n",
    "  | 2. | 39.92 | 40.04 |\n",
    "  | 3. | 39.94 | 40.07 |\n",
    "  | 4. | 39.93 | 40.06 |\n",
    "  | 5. | 39.88 | 40.01 |\n",
    "  | 6. | 39.93 | 40.06 |\n",
    "  | 7. | 39.92 | 40.05 |\n",
    "  | 8. | 39.95 | 40.08 |\n",
    "  | 9. | 39.99 | 40.19 |\n",
    "  | 10. | 39.93 | 40.05 |\n",
    "\n",
    "- #### Through the above observations, we can see that most of the our confidence interval is correct for the value of $ \\mu $.\n",
    "\n",
    "- #### However, there have been cases where the confidence interval has not been able to infer the correct range for the value of true mean."
   ]
  },
  {
   "cell_type": "markdown",
   "metadata": {},
   "source": [
    "## _Result_"
   ]
  },
  {
   "cell_type": "markdown",
   "metadata": {},
   "source": [
    "- ##### Finally, We can infer from this that the 95% confidence interval decided provides us with a almost correct range for the value of $$"
   ]
  },
  {
   "cell_type": "markdown",
   "metadata": {},
   "source": [
    "# 2. _Title: The Poisson Generator_"
   ]
  },
  {
   "cell_type": "markdown",
   "metadata": {},
   "source": [
    "## Functions used"
   ]
  },
  {
   "cell_type": "code",
   "execution_count": null,
   "metadata": {},
   "outputs": [],
   "source": [
    "# -------------------------------------------------------  UNIVARIATE  -----------------------------------------------------------------\n",
    "\n",
    "# Function which follows altered cdf of Poisson distribution\n",
    "def changed_Poisson(X:int, lamda:int)->float:\n",
    "\t\"\"\"This is a function which returns the poission distribution.\"\"\"\n",
    "\n",
    "\tf_x = ( (lamda**X)/mt.factorial(X) )\n",
    "\treturn f_x\n",
    "\n",
    "# Function which follows the altered cdf of Poisson distribution\n",
    "def Poisson_cdf( lim:int , LAMDA:int )->np.array:\n",
    "  \"\"\"_summary_\n",
    "\n",
    "  Args:\n",
    "      lim (int): This is the limit upto which the numpy array is to be made\n",
    "\n",
    "  Returns:\n",
    "      np.array: This is the numpy array which has the index number as the realisation of the random variable and the value in the array as the cdf upto that value.\n",
    "\n",
    "  It returns an array which contains the cdf value for the (index + 1) range.\n",
    "  \"\"\"\n",
    "\n",
    "  arr =[ 0 ]\n",
    "  for i in range(1,lim,1):\n",
    "    arr.append( arr[i-1] + changed_Poisson(i,LAMDA) )\n",
    "  cdf=np.array(arr)\n",
    "  \n",
    "  return cdf\n",
    "\n",
    "# Function which works as the inverse for the Poisson distribution\n",
    "def Poisson_value( cdf:np.array, prob:float ,lamda:int )->int:\n",
    "  \"\"\"_summary_\n",
    "\n",
    "  Args:\n",
    "    cdf (np.array): This is the cdf array for a particular distribution.\n",
    "    prob (float): This is an specific probability value which is in the range of 0 to 1. \n",
    "\n",
    "  Returns:\n",
    "    int: This is the realisation of the random variable.\n",
    "  \"\"\"\n",
    "\n",
    "  sz: int =len(cdf)\n",
    "  for i in range(sz):\n",
    "    if( prob/mt.exp(0-lamda) < cdf[i]):\n",
    "      return i\n",
    "    \n",
    "  return 0\n",
    "\n",
    "# Function which gives randomly generated numbers which follow gaussian distribution\n",
    "def ITS_poisson( num_samples:int, prestored_samples:int, lamda:int )->np.array:\n",
    "  \"\"\"_Summary_\n",
    "  \n",
    "  Args:\n",
    "    num_samples (int): This is the toal number of samples taken for the transformation from uniform to gaussian function.\n",
    "    prestored_samples (int): This is the total number of prestored samples taken.\n",
    "    lamda (int): This is the lamda taken for the gaussian distribution.\n",
    "\n",
    "  Returns:\n",
    "    np.array: This is the array which contains the transformed uniform random number which now follow normal/gaussian distribution \n",
    "  \"\"\"\n",
    "  \n",
    "  CAL= Poisson_cdf( prestored_samples ,lamda )\n",
    "  \n",
    "  # Generating uniform random numbers\n",
    "  dp: np.array = np.random.uniform(0, 1, num_samples)\n",
    "  dataset:np.array = np.array( [ Poisson_value(CAL,i,lamda) for i in dp ] )\n",
    "  \n",
    "  return dataset"
   ]
  },
  {
   "cell_type": "markdown",
   "metadata": {},
   "source": [
    "## Introduction"
   ]
  },
  {
   "cell_type": "markdown",
   "metadata": {},
   "source": [
    "- ##### Task 1: Generate 10,000 random samples using the Poisson distribution. $ \\lambda $ represents the average rate of events per interval.\n",
    "\n",
    "- ##### Task 2: Calculating the expected point, the mean of the generated dataset and giving a brief about the insights which is obtained about the central tendency of the dataset.\n",
    "\n",
    "- ##### Task 3: Finding the 95% confidence interval for the Poisson distribution. Uncovering the range within which the true mean lies.\n",
    "\n",
    "- ##### Task 4: Visualising the Poisson distribution using a histogram. Noting the observation and insights obtained during the process."
   ]
  },
  {
   "cell_type": "markdown",
   "metadata": {},
   "source": [
    "## _Task 1_"
   ]
  },
  {
   "cell_type": "markdown",
   "metadata": {},
   "source": [
    "### _Methodology_"
   ]
  },
  {
   "cell_type": "markdown",
   "metadata": {},
   "source": [
    "- #### The main idea used here is to get the cdf of random variable for a large number of realisations of the random variable `X` which follows the Poisson distibution.\n",
    "\n",
    "- #### The Poisson distribution can be represented by the pmf as:\n",
    "#### $$  P(x,\\lambda)\\;=\\;\\frac{\\lambda^{x}\\;e^{-\\lambda}}{x!}  $$\n",
    "\n",
    "- #### However for the ease of calculation, we have altered the pmf slightly by taking the it as:\n",
    "#### $$  P(x,\\lambda)\\;=\\;\\frac{\\lambda^{x}}{x!}  $$\n",
    "\n",
    "- #### The extra `exponential term` has been added while taking the probability as the input.\n",
    "\n",
    "- #### In the code mentioned below, the functions pertaining to each task has been documented in a well-defined manner.\n",
    "\n",
    "- #### The interesting fact here is that the Poisson distribution becomes more-and-more similar to Normal distribution as the value of $ \\lambda $ increases. \n",
    "\n",
    "- #### The value of $ \\lambda $ taken here by me is 10. Even from this value, we can see that the poisson distribution starts to resemble the normal distribution."
   ]
  },
  {
   "cell_type": "markdown",
   "metadata": {},
   "source": [
    "### Code"
   ]
  },
  {
   "cell_type": "code",
   "execution_count": null,
   "metadata": {},
   "outputs": [],
   "source": [
    "\"\"\"\n",
    "Initially the range of the values was limited to 34 due to the huge computation overheads and datatype overflow, however changing the way we evaluate the cdf can increase the limit of the function.\n",
    "\"\"\"\n",
    "\n",
    "# Earlier the Upper range of the limit is 171\n",
    "prestored_samples2 =2000\n",
    "\n",
    "LAMDA2= 100;            SIZE2= 10000\n",
    "\n",
    "# Generating the cdf of the gaussian distribution\n",
    "CDF2 =  Poisson_cdf( prestored_samples2, LAMDA2)* mt.exp(0-LAMDA2)\n",
    "\n",
    "# Generating the dataset\n",
    "DATA2= ITS_poisson( SIZE2, prestored_samples2, LAMDA2)"
   ]
  },
  {
   "cell_type": "markdown",
   "metadata": {},
   "source": [
    "## _Task 2_"
   ]
  },
  {
   "cell_type": "markdown",
   "metadata": {},
   "source": [
    "### _Methodology_"
   ]
  },
  {
   "cell_type": "markdown",
   "metadata": {},
   "source": [
    "- ##### The mean of the Poisson dataset generated is near to the value of $ \\lambda $ which we have taken into consideration.\n",
    "\n",
    "- ##### After that, we simply calculate the mean of the dataset by using the self-built method `mean` for the task.\n",
    "\n",
    "- ##### This gives us the insight that the method of Inverse Transform Sampling which we have used for the Variable is correct and it works which can be proved by the fact that both the mean and variance come out to be close to 10.\n",
    "\n",
    "- ##### The above fact is, also the property of the Poisson distribution."
   ]
  },
  {
   "cell_type": "markdown",
   "metadata": {},
   "source": [
    "### _Code_"
   ]
  },
  {
   "cell_type": "code",
   "execution_count": null,
   "metadata": {},
   "outputs": [],
   "source": [
    "mean2:float = mean( DATA2, SIZE2 )\n",
    "var2:float = variance( DATA2 , SIZE2, mean2 )\n",
    "\n",
    "# Displaying the necessaary information\n",
    "print(f\"The mean of the dataset is {mean2}.\",end=\"\\n\\n\")\n",
    "print(f\"The variance of the dataset is {var2}.\",end=\"\\n\\n\")"
   ]
  },
  {
   "cell_type": "markdown",
   "metadata": {},
   "source": [
    "## _Task 3_"
   ]
  },
  {
   "cell_type": "markdown",
   "metadata": {},
   "source": [
    "### _Methodology_"
   ]
  },
  {
   "cell_type": "markdown",
   "metadata": {},
   "source": [
    "- #### We know in this case that the distribution is not normal. With the help of Central Limit Thorem, the value can be approximated to N (0, 1). \n",
    "  ####  $$ 1-\\alpha \\; \\approx  \\; P_{\\mu}( −z_{α/2} < \\frac{\\bar{X}-\\mu}{\\frac{S}{\\sqrt{n}} }< z_{α/2}) $$\n",
    "  ####  $$ 1-\\alpha \\; \\approx  \\; P_{\\mu}( \\; \\bar{X} − z_{α/2}\\frac{S}{\\sqrt{n}} < \\mu< \\bar{X} + z_{α/2}\\frac{S}{\\sqrt{n}} \\; ) $$\n",
    "\n",
    "- #### The value $ \\bar{x} $ and s denote the realized values of the statistics $ \\bar{X} $ and S, an approximate (1 − α)100% conﬁdence interval for μ is given by the range:\n",
    "  ####  $$ ( \\; \\bar{X} − z_{α/2}\\frac{S}{\\sqrt{n}} \\; , \\; \\bar{X} + z_{α/2}\\frac{S}{\\sqrt{n}} \\; ) $$"
   ]
  },
  {
   "cell_type": "markdown",
   "metadata": {},
   "source": [
    "### _Code_"
   ]
  },
  {
   "cell_type": "code",
   "execution_count": null,
   "metadata": {},
   "outputs": [],
   "source": [
    "z_alpha= 1.97\n",
    "\n",
    "limit2= {}\n",
    "\n",
    "limit2['lower']= mean2 -  z_alpha * np.sqrt(var2/SIZE2)\n",
    "limit2['upper']= mean2 + z_alpha * np.sqrt(var2/SIZE2) \n",
    "\n",
    "print(f\"The 95% confidence interval is {limit2['lower']} and {limit2['upper']}\")"
   ]
  },
  {
   "cell_type": "markdown",
   "metadata": {},
   "source": [
    "## _Task 4_"
   ]
  },
  {
   "cell_type": "markdown",
   "metadata": {},
   "source": [
    "### _Methodology_"
   ]
  },
  {
   "cell_type": "markdown",
   "metadata": {},
   "source": [
    "- #### The visualization is simply obtained by the use of `matplotlib` library in python. "
   ]
  },
  {
   "cell_type": "markdown",
   "metadata": {},
   "source": [
    "### _Code_"
   ]
  },
  {
   "cell_type": "code",
   "execution_count": null,
   "metadata": {},
   "outputs": [],
   "source": [
    "# Options for different bin_Sizes\n",
    "bin1= (35, 70)\n",
    "\n",
    "# Adjusting the figure size and the style to be used \n",
    "plt.figure( figsize=(20,8))\n",
    "plt.style.use( 'seaborn-v0_8' )\n",
    "\n",
    "\n",
    "plt.subplot(1,2,1)\n",
    "plt.title(f\"Poisson Distribution[ Bins={ bin1[0] } ]\")\n",
    "plt.xlabel(\"Sample\"); plt.ylabel(\"Frequencies\")\n",
    "plt.hist( DATA2, color=\"green\", bins= bin1[0], linewidth=1, edgecolor=\"blue\")\n",
    "\n",
    "# Changing the bin-size\n",
    "plt.subplot(1,2,2)\n",
    "plt.title(f\"Poisson Distribution[ Bins={ bin1[1] } ]\")\n",
    "plt.xlabel(\"Sample\"); plt.ylabel(\"Frequencies\")\n",
    "plt.hist( DATA2, color=\"green\", bins= bin1[1], linewidth=1, edgecolor=\"blue\")\n",
    "\n",
    "\n",
    "# Showing the histogram\n",
    "plt.show()"
   ]
  },
  {
   "cell_type": "markdown",
   "metadata": {},
   "source": [
    "## _Observations_"
   ]
  },
  {
   "cell_type": "markdown",
   "metadata": {},
   "source": [
    "- #### The first observation here is that we can see in the visualization that for large values of $ \\lambda $, the Poisson distribution becomes indistiguisable from the Normal distribution.\n",
    "\n",
    "- #### This is evident from the function of the Poisson distribution as when we increase the value for $ \\lambda $, the distribution will tend towards normal.\n",
    "\n",
    "- #### Additionally, we can see that the confidence interval provides us with the correct values most of the time."
   ]
  },
  {
   "cell_type": "markdown",
   "metadata": {},
   "source": [
    "## _Results_ "
   ]
  },
  {
   "cell_type": "markdown",
   "metadata": {},
   "source": [
    "- #### We can see that the technique for the finding the confidence interval for the Poisson distribution can be applied for Poisson distribution as well by the application of Central Limit Theorem.\n",
    "\n",
    "- #### This makes the point that we can find the confidence interval for any distribution with some level of approximation.\n"
   ]
  },
  {
   "cell_type": "markdown",
   "metadata": {},
   "source": [
    "# _3. Word Problem_"
   ]
  },
  {
   "cell_type": "markdown",
   "metadata": {},
   "source": [
    "## _Introduction_"
   ]
  },
  {
   "cell_type": "markdown",
   "metadata": {},
   "source": [
    "- #### A market researcher is conducting a study to estimate the proportion of customers who are satisfied with a new product launch. It is assumed that the quality of her sample is such that it can be safely assumed to be a random sample from the Bernoulli distribution with the unknown parameter p.\n",
    "- #### The researcher wants to determine the smallest sample size (n) needed to estimate the satisfaction proportion with ±3% accuracy, at a 99% confidence level. The estimator for the proportion is given by $ \\hat{p} = \\frac{Y}{n} $ , where Y is the number of satisfied customers in the sample.\n",
    "- #### We have assumed that the sampling distribution of $ \\hat{p} $ is well approximated by a normal distribution, and the task is to find the smallest sample size (n) under the given conditions."
   ]
  },
  {
   "cell_type": "markdown",
   "metadata": {},
   "source": [
    "## Methodology"
   ]
  },
  {
   "cell_type": "markdown",
   "metadata": {},
   "source": [
    "- #### We know in this case that the distribution is not normal. However, from the above discussion we know that the distribution of Zn , (4.2.4), is approximately N (0, 1). \n",
    "  ####  $$ 1-\\alpha \\; \\approx  \\; P_{\\mu}( −z_{α/2} < \\frac{\\bar{X}-\\mu}{\\frac{S}{\\sqrt{n}} }< z_{α/2}) $$\n",
    "  ####  $$ 1-\\alpha \\; \\approx  \\; P_{\\mu}( \\; \\bar{X} − z_{α/2}\\frac{S}{\\sqrt{n}} < \\mu< \\bar{X} + z_{α/2}\\frac{S}{\\sqrt{n}} \\; ) $$\n",
    "\n",
    "- #### The value $ \\bar{x} $ and s denote the realized values of the statistics $ \\bar{X} $ and S, an approximate (1 − α)100% conﬁdence interval for μ is given by the range:\n",
    "  ####  $$ ( \\; \\bar{X} − z_{α/2}\\frac{S}{\\sqrt{n}} \\; , \\; \\bar{X} + z_{α/2}\\frac{S}{\\sqrt{n}} \\; ) $$\n",
    "\n",
    "- #### For the 99% confidence interval, the $ z_{\\alpha/2}= 2.58 $, we can use the formula for the margin of error in estimating a proportion:\n",
    "  #### $$ e = z\\sqrt{\\frac{p(1−p)}{n}} $$\n",
    "\n",
    "- #### From the above expression, we can derive the term for the smallest sample size n which will at least give a 99% confidence interval with a margin error of 0.03\n",
    "  #### $$ n = \\frac{p(1-p)}{(\\frac{e}{z})^2} $$\n",
    "​"
   ]
  },
  {
   "cell_type": "markdown",
   "metadata": {},
   "source": [
    "## _Code_"
   ]
  },
  {
   "cell_type": "code",
   "execution_count": null,
   "metadata": {},
   "outputs": [],
   "source": [
    "e= 0.03;  z= 2.58; p=0.5\n",
    "\n",
    "n= (p*(1-p)) / (e/z)**2\n",
    "n"
   ]
  },
  {
   "cell_type": "markdown",
   "metadata": {},
   "source": [
    "## _Obsevations_"
   ]
  },
  {
   "cell_type": "markdown",
   "metadata": {},
   "source": [
    "- #### We can see that the minimum value of  n has come out to be 1849.\n",
    "\n",
    "- #### We got this by taking the margin of error to be 0.03 i.e. 3%.\n",
    "\n",
    "- #### We took the value of p to be equal to 0.5 which supports the fact for maximum randomness."
   ]
  },
  {
   "cell_type": "markdown",
   "metadata": {},
   "source": [
    "## _Results_"
   ]
  },
  {
   "cell_type": "markdown",
   "metadata": {},
   "source": [
    "- #### We can confirm now that the value for n is minimum for the given conditions."
   ]
  },
  {
   "cell_type": "markdown",
   "metadata": {},
   "source": [
    "# References"
   ]
  },
  {
   "cell_type": "markdown",
   "metadata": {},
   "source": [
    "- #### [Help in Markdown](https://kapeli.com/cheat_sheets/LaTeX_Math_Symbols.docset/Contents/Resources/Documents/index)\n",
    "- #### [Box-Muller Technique](https://www.statisticshowto.com/box-muller-transform-simple-definition/)"
   ]
  }
 ],
 "metadata": {
  "kernelspec": {
   "display_name": "Python 3",
   "language": "python",
   "name": "python3"
  },
  "language_info": {
   "codemirror_mode": {
    "name": "ipython",
    "version": 3
   },
   "file_extension": ".py",
   "mimetype": "text/x-python",
   "name": "python",
   "nbconvert_exporter": "python",
   "pygments_lexer": "ipython3",
   "version": "3.12.2"
  }
 },
 "nbformat": 4,
 "nbformat_minor": 2
}
