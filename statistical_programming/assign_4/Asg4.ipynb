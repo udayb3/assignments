{
 "cells": [
  {
   "cell_type": "markdown",
   "metadata": {},
   "source": [
    "# Modules and Constants used"
   ]
  },
  {
   "cell_type": "code",
   "execution_count": null,
   "metadata": {},
   "outputs": [],
   "source": [
    "import numpy as np\n",
    "import pandas as pd\n",
    "import math as mt\n",
    "import matplotlib.pyplot as plt"
   ]
  },
  {
   "cell_type": "markdown",
   "metadata": {},
   "source": [
    "# Question 1"
   ]
  },
  {
   "cell_type": "markdown",
   "metadata": {},
   "source": [
    "## _Introduction_"
   ]
  },
  {
   "cell_type": "markdown",
   "metadata": {},
   "source": [
    "### Consider a random sample $ X_1 , X_2 , . . . , X_{10000} $ drawn from a Poisson distribution with mean θ. Show that the critical region C defined by $ \\sum X_i $ ≥ 3 for i $ \\epsilon $ [1,10000] is a best critical region for testing $ H_0 \\; : \\;  \\theta $=0.2 against $H_1$ : θ = 0.6. Determine, for this test, the significance level α and the power at θ = 0.6.\n",
    "  1. #### Write a Python function to generate a random sample of size 10000 from a Poisson distribution with mean θ.\n",
    "  2. #### Define the critical region C as the sum of the sample being greater than or equal to 3.\n",
    "  3. #### Perform hypothesis testing by comparing the critical region with the significance level α.\n",
    "  4. #### Calculate the power of the test at θ = 0.6. Ensure to use Python from scratch to solve the given problem statement."
   ]
  },
  {
   "cell_type": "markdown",
   "metadata": {},
   "source": [
    "## _Functions Used_"
   ]
  },
  {
   "cell_type": "code",
   "execution_count": null,
   "metadata": {},
   "outputs": [],
   "source": [
    "# ----General Functions----------\n",
    "def mean( dataset: np.array, n: int )->float:\n",
    "  \"\"\"_Summary_\n",
    "      This calculates the mean of the dataset which is provided.\n",
    "  :_Args_\n",
    "    dataset (np.array): This is the dataset for which the mean is to be calculated.\n",
    "  :\n",
    "\n",
    "  \"\"\"\n",
    "  summation:float= sum(dataset)\n",
    "  return (summation/n)\n",
    "\n",
    "def variance( dataset: np.array, n: int, mean: float )->float:\n",
    "  \"\"\"\n",
    "  _Summary_\n",
    "    This function calculates and returns the variance of the dataset. \n",
    "    :_Args_\n",
    "      dataset(numpy array): This is the dataset for which the variance is to be calculated.\n",
    "      n(int): This is the size of the dataset given.\n",
    "\n",
    "    :_Returns_\n",
    "      float: Variance of the datset\n",
    "  \"\"\"\n",
    "  squared_dataset= np.array( [ np.power((x-mean), 2) for x in dataset ])\n",
    "  var= sum(squared_dataset)/n\n",
    "\n",
    "  return var\n",
    "\n",
    "# -------------------------------------------------------  UNIVARIATE  -----------------------------------------------------------------\n",
    "\n",
    "\n",
    "\n",
    "# Function which follows altered cdf of Poisson distribution\n",
    "def changed_Poisson(X:int, lamda:int)->float:\n",
    "\t\"\"\"This is a function which returns the poission distribution.\"\"\"\n",
    "\n",
    "\tf_x = ( (lamda**X)/mt.factorial(X) )\n",
    "\treturn f_x\n",
    "\n",
    "# Function which follows the altered cdf of Poisson distribution\n",
    "def Poisson_cdf( lim:int , LAMDA:int )->np.array:\n",
    "  \"\"\"_summary_\n",
    "\n",
    "  Args:\n",
    "      lim (int): This is the limit upto which the numpy array is to be made\n",
    "\n",
    "  Returns:\n",
    "      np.array: This is the numpy array which has the index number as the realisation of the random variable and the value in the array as the cdf upto that value.\n",
    "\n",
    "  It returns an array which contains the cdf value for the (index + 1) range.\n",
    "  \"\"\"\n",
    "\n",
    "  arr =[ 0 ]\n",
    "  for i in range(1,lim,1):\n",
    "    arr.append( arr[i-1] + changed_Poisson(i,LAMDA) )\n",
    "  cdf=np.array(arr)\n",
    "  \n",
    "  return cdf\n",
    "\n",
    "# Function which works as the inverse for the Poisson distribution\n",
    "def Poisson_value( cdf:np.array, prob:float ,lamda:int )->int:\n",
    "  \"\"\"_summary_\n",
    "\n",
    "  Args:\n",
    "    cdf (np.array): This is the cdf array for a particular distribution.\n",
    "    prob (float): This is an specific probability value which is in the range of 0 to 1. \n",
    "\n",
    "  Returns:\n",
    "    int: This is the realisation of the random variable.\n",
    "  \"\"\"\n",
    "\n",
    "  sz: int =len(cdf)\n",
    "  for i in range(sz):\n",
    "    if( prob/mt.exp(0-lamda) < cdf[i]):\n",
    "      return i\n",
    "    \n",
    "  return 0\n",
    "\n",
    "# Function which gives randomly generated numbers which follow gaussian distribution\n",
    "def ITS_poisson( num_samples:int, prestored_samples:int, lamda:int )->np.array:\n",
    "  \"\"\"_Summary_\n",
    "  \n",
    "  Args:\n",
    "    num_samples (int): This is the toal number of samples taken for the transformation from uniform to gaussian function.\n",
    "    prestored_samples (int): This is the total number of prestored samples taken.\n",
    "    lamda (int): This is the lamda taken for the gaussian distribution.\n",
    "\n",
    "  Returns:\n",
    "    np.array: This is the array which contains the transformed uniform random number which now follow normal/gaussian distribution \n",
    "  \"\"\"\n",
    "  \n",
    "  CAL= Poisson_cdf( prestored_samples ,lamda )\n",
    "  \n",
    "  # Generating uniform random numbers\n",
    "  dp: np.array = np.random.uniform(0, 1, num_samples)\n",
    "  dataset:np.array = np.array( [ Poisson_value(CAL,i,lamda) for i in dp ] )\n",
    "  \n",
    "  return dataset"
   ]
  },
  {
   "cell_type": "markdown",
   "metadata": {},
   "source": [
    "## _Part 1_"
   ]
  },
  {
   "cell_type": "markdown",
   "metadata": {},
   "source": [
    "### _Methodology_"
   ]
  },
  {
   "cell_type": "markdown",
   "metadata": {},
   "source": [
    "- #### We want to get the cdf of random variable for a large number of realisations of the random variable `X` which follows the Poisson distibution.\n",
    "\n",
    "- #### The Poisson distribution can be represented by the pmf as:\n",
    "#### $$  P(x,\\lambda)\\;=\\;\\frac{\\lambda^{x}\\;e^{-\\lambda}}{x!}  $$\n",
    "\n",
    "- #### However for the ease of calculation, we have altered the pmf slightly[for easy computation] by taking it as:\n",
    "#### $$  P(x,\\lambda)\\;=\\;\\frac{\\lambda^{x}}{x!}  $$\n",
    "\n",
    "- #### The extra `exponential term` has been added while taking the probability as the input.\n",
    "\n",
    "- #### In the code mentioned below, the functions pertaining to each task has been documented in a well-defined manner.\n",
    "\n",
    "- #### The value of $ \\lambda $ taken here by me is 10. Even from this value, we can see that the poisson distribution starts to resemble the normal distribution."
   ]
  },
  {
   "cell_type": "markdown",
   "metadata": {},
   "source": [
    "### _Code_"
   ]
  },
  {
   "cell_type": "code",
   "execution_count": null,
   "metadata": {},
   "outputs": [],
   "source": [
    "prestored_samples2 =2000\n",
    "\n",
    "LAMDA2= 1;    SIZE1= 10000\n",
    "org_mean1= 1\n",
    "\n",
    "h0_1= 0.2; h1_1= 0.5\n",
    "# Generating the cdf of the gaussian distribution\n",
    "CDF2 =  Poisson_cdf( prestored_samples2, LAMDA2)* mt.exp(0-LAMDA2)\n",
    "\n",
    "# Generating the dataset\n",
    "data1= ITS_poisson( SIZE1, prestored_samples2, LAMDA2)\n",
    "mean1= mean(data1, SIZE1); var1= variance(data1, SIZE1, mean1)\n",
    "data1"
   ]
  },
  {
   "cell_type": "markdown",
   "metadata": {},
   "source": [
    "## _Part 2_"
   ]
  },
  {
   "cell_type": "markdown",
   "metadata": {},
   "source": [
    "### _Methodology_"
   ]
  },
  {
   "cell_type": "markdown",
   "metadata": {},
   "source": [
    "- #### The Critical region is defined as a region C in higher dimensions in which the hypothesis $ H_0 $ is rejected if the random sample $ X_1, X_2, ....., X_n $ lies in it.\n",
    "  ##### Accepted when $ (X_1, X_2,......, X_n) \\; \\notin \\; C $\n",
    "  ##### Rejected when $ (X_1, X_2,......, X_n) \\; \\in \\; C $\n",
    "\n",
    "- #### There can be 2 types of errors while testing a hypothesis:\n",
    "  1. ##### Type 1 error: When $ H_0 $ is correct but we have assumed it to be wrong. This provides us with the significance value $ \\alpha $.\n",
    "  2. ##### Type 2 error: When $ H_0 $ is wrong but we have taken it to be correct. This provides us with the OC(Operating Characteristic) or (1 - Power)\n",
    "\n",
    "- #### Now, We define the critical region in a better manner:\n",
    "  ##### $$  C = \\{ \\; (X_1, X_2,........, X_n) \\; : \\; |\\bar{X} - \\mu| > c \\}   $$\n",
    "\n",
    "- #### Here, we consider that the Null hypothesis $ H_0 $ is true and we find the significance level for the Type 1 error and We are checking it for the crictical region in which $ \\Sigma_{i=1}^{n} {X_i} \\geq 30000 $.\n",
    "\n",
    "- #### This leads to the equation:\n",
    "  ##### $$ \\bar{X} \\; \\geq \\; 3 $$\n",
    "\n",
    "- #### We can simplify the equation for critical for critical region as:\n",
    "  ##### $$ H_0: \\bar{X}-0.2 \\geq 2.8 \\; and \\; H_1: \\bar{X}-0.6 \\geq 2.4 $$\n",
    "\n",
    "- #### Hence, the value of $ c_0 \\; and \\; c_1 $ comes out to be 2.8 and 2.4 respectively."
   ]
  },
  {
   "cell_type": "markdown",
   "metadata": {},
   "source": [
    "### _Code_"
   ]
  },
  {
   "cell_type": "code",
   "execution_count": null,
   "metadata": {},
   "outputs": [],
   "source": [
    "c0_1= mean1- 0.2; c1_1= mean1 - 0.6\n",
    "print(f\"The critical values from the null hypothesis and the alternate hypothesis has come out to be {c0_1} and {c1_1}\")"
   ]
  },
  {
   "cell_type": "markdown",
   "metadata": {},
   "source": [
    "## _Part 3_"
   ]
  },
  {
   "cell_type": "markdown",
   "metadata": {},
   "source": [
    "### _Methodology_"
   ]
  },
  {
   "cell_type": "markdown",
   "metadata": {},
   "source": [
    "  - #### Here, we assume that we have no information about the mean and take the case where we do not know about the variance of the sample too.\n",
    "\n",
    "  - #### With the application of Central Limit Theorem, We take the assumption that the mean of all the Poisson samples follow the Normal distribution with unknown mean and variance.\n",
    "  \n",
    "  - #### The critical value can be found in the below manner:\n",
    "    ##### $$  P_0 ( \\; | \\bar{X} - \\mu{}_0 | > c  \\; ) = \\alpha $$ \n",
    "\n",
    "  - #### We can convert $\\bar{X} $ to a standard normal variable through the below method:\n",
    "    ##### $$  T= \\frac{ \\sqrt{n} (\\bar{X} - \\mu_0) }{ S } $$\n",
    "\n",
    "  - #### Through this, we can derive the critical value:\n",
    "    ##### $$ t_{\\alpha/2} = \\frac{c\\sqrt{n}}{S} $$"
   ]
  },
  {
   "cell_type": "markdown",
   "metadata": {},
   "source": [
    "### _Code_"
   ]
  },
  {
   "cell_type": "code",
   "execution_count": null,
   "metadata": {},
   "outputs": [],
   "source": [
    "from scipy.stats import t as t_dis\n",
    "\n",
    "# Finding alpha for the null hypothesis\n",
    "T1= mt.sqrt(SIZE1) * ( mean1 - h0_1 ) / mt.sqrt(var1)\n",
    "t1= c0_1*mt.sqrt(SIZE1)/mt.sqrt(((var1/(SIZE1-1)))*(SIZE1))\n",
    "\n",
    "print(f\"The values of T and t for the equation presented are {T1} and {t1} respectively\")\n",
    "t_dis.cdf( T1,9999)"
   ]
  },
  {
   "cell_type": "markdown",
   "metadata": {},
   "source": [
    "## _Part 4_"
   ]
  },
  {
   "cell_type": "markdown",
   "metadata": {},
   "source": [
    "### _Methodology_"
   ]
  },
  {
   "cell_type": "markdown",
   "metadata": {},
   "source": [
    "- #### For taking out the Power for the Alternate hypothesis, we first find out the Operating Characteristics.\n",
    "\n",
    "- #### We define a term $ \\beta $ as follows:\n",
    "  ##### $$ \\beta(\\mu) = P_{\\mu}(acceptance \\; of \\; H_1) $$\n",
    "  ##### $$ P_{\\mu}\\{ \\mid{ \\frac{ \\sqrt{n}(\\bar{X}-\\mu_{0}) }{S} } \\mid \\;\\; \\leq \\;\\; z_{\\alpha/2} \\} $$\n",
    "\n",
    "- #### Solving this expression gives us the result:\n",
    "  #### $$ \\beta(\\mu) = \\phi{}( \\frac{\\mu_0 - \\mu}{S/\\sqrt{n}} \\; + \\; z_{\\alpha/2}) - \\phi{}( \\frac{\\mu_0 - \\mu}{S\\sqrt{n}} \\; - \\; z_{\\alpha/2} ) $$\n",
    "\n",
    "- #### In the above expression, $ \\phi $ is the standard normal distribution function. The Expression for Power is as follows:\n",
    "  ##### $$ Power = \\; 1 \\; - \\; \\beta{}(\\mu) $$\n",
    "   \n",
    "- #### For the ease of calculation, we ignore the latter part in the calculation of $ \\beta $ and we can write the remaining as follows:\n",
    "  #### $$ \\beta(\\mu) = \\phi{}( \\frac{\\mu_0 - \\mu}{S/\\sqrt{n}} \\; + \\; z_{\\alpha/2}) $$\n",
    "  #### $$ \\beta(\\mu) = P(Z > \\frac{\\mu_0 - \\mu}{S/\\sqrt{n}} \\; + \\; z_{\\alpha/2} ) = P(Z < - ( \\frac{\\mu_0 - \\mu}{S/\\sqrt{n}} \\; + \\; z_{\\alpha/2}  )) $$\n",
    "  #### $$ \\beta(\\mu) = \\phi(-z_{\\beta})  $$"
   ]
  },
  {
   "cell_type": "markdown",
   "metadata": {},
   "source": [
    "### _Code_"
   ]
  },
  {
   "cell_type": "code",
   "execution_count": null,
   "metadata": {},
   "outputs": [],
   "source": [
    "from scipy.stats import norm\n",
    "\n",
    "C= (org_mean1 - mean1)* mt.sqrt(SIZE1) / mt.sqrt(var1)\n",
    "upper2= C + t1; lower2= C - t1\n",
    "\n",
    "beta= norm.cdf(-upper2)\n",
    "print(f\"The values for Beta and Power for the Alternate hypothesis are {beta} and {1-beta}.\")"
   ]
  },
  {
   "cell_type": "markdown",
   "metadata": {},
   "source": [
    "## _Observations_"
   ]
  },
  {
   "cell_type": "markdown",
   "metadata": {},
   "source": [
    "- #### The primary reason for this high value of Power can be considered due to higher value for $ \\frac{ \\sqrt{n} }{ S } $"
   ]
  },
  {
   "cell_type": "markdown",
   "metadata": {},
   "source": [
    "# Question 2"
   ]
  },
  {
   "cell_type": "markdown",
   "metadata": {},
   "source": [
    "## _Introduction_"
   ]
  },
  {
   "cell_type": "markdown",
   "metadata": {},
   "source": [
    "### Consider a random sample $ X_1 , X_2 , . . . , X_{100} $ drawn from a normal distribution with mean $ \\mu $ and standard deviation $ \\sigma $. Show that the critical region C defined by X̄ ≥ 20 is a best critical region for testing  $ H_0 : µ = 15 \\; against \\; H_1 : µ = 18$.  Determine, for this test, the significance level α and the power at µ = 18.\n",
    "  1. #### Write a Python function to generate a random sample of size 100 from a normal distribution with mean µ and standard deviation σ.\n",
    "  2. #### Define the critical region C as the sample mean (X̄) being greater than or equal to 20.\n",
    "  3. #### Perform hypothesis testing by comparing the critical region with the significance level α.\n",
    "  4. #### Calculate the power of the test at µ = 18.\n"
   ]
  },
  {
   "cell_type": "markdown",
   "metadata": {},
   "source": [
    "## _Functions Used_"
   ]
  },
  {
   "cell_type": "code",
   "execution_count": null,
   "metadata": {},
   "outputs": [],
   "source": [
    "def BM_technique( N:int, mean:float, variance:float )->np.array:\n",
    "  \"\"\"_Summary_\n",
    "      This implements the Box-Muller technique to get the dataset which follows the Gaussian Distribution.\n",
    "\n",
    "    _Args_\n",
    "      \n",
    "    \n",
    "    _Returns_\n",
    "      np.array: It is the numpy array which contains the data related to the point which follow the Gaussian Distribution.\n",
    "    \n",
    "  \"\"\"\n",
    "  # Taking random samples which follow uniform distribution\n",
    "  u1= np.random.uniform(0, 1, N)\n",
    "  u2= np.random.uniform(0, 1, N)\n",
    "\n",
    "  # Applying the Box-Muller technique to get the variable following the Normal distribution\n",
    "  R= np.sqrt(-2* np.log(u1) )\n",
    "  cost= np.cos(2 * np.pi * u2 )\n",
    "\n",
    "  Z= R*cost\n",
    "  \n",
    "  # Converting the variable from Standard Normal variable to a normal variable with specific mean and variance \n",
    "  X= (Z* np.sqrt(variance)) + mean\n",
    "  return X"
   ]
  },
  {
   "cell_type": "markdown",
   "metadata": {},
   "source": [
    "## _Part 1_"
   ]
  },
  {
   "cell_type": "markdown",
   "metadata": {},
   "source": [
    "### _Methodology_"
   ]
  },
  {
   "cell_type": "markdown",
   "metadata": {},
   "source": [
    "- #### The main idea behind the method used is to generate a dataset from uniform distribution which follows Gaussian distribution.\n",
    "\n",
    "- #### This is done with the help of `Box-Muller Technique` which is defined as follows:\n",
    "  \n",
    "  - #### It can be defined as a alternative way to the method of inverse transform sampling. It generates numbers which follow _Standard Normal Distribution_.\n",
    "  \n",
    "  - #### $ U_1 \\; and \\; U_2 $ are the parameters taken for radius and angle which are the samples following uniform distribution. We transform these variables to Normal variables using the _Box-Muller Technique_.\n",
    "  \n",
    "  - #### The formula used is as follows:\n",
    "    $$ Z_1 = R\\;\\cos{(\\theta)}\\;=\\;\\sqrt{-2\\ln{U_1}} \\cos{2\\pi U_2}   $$\n",
    "  \n",
    "  - #### $ Z_1 $ follows standard normal distribution.\n",
    "  \n",
    "  - #### The derivation for the Box-Muller technique involves the use of geometry and Pythogoras theorem. There are reference given for the Box-Muller technique.\n",
    "\n",
    "- #### We change the standard normal distribution to the Normal Distribution with given $ \\mu \\; and \\; \\sigma $.\n",
    "  $$  X = \\mu_1 + \\sqrt{ \\sigma_1 }\\;\\;z_1   $$"
   ]
  },
  {
   "cell_type": "markdown",
   "metadata": {},
   "source": [
    "### _Code_ & _Visualisation_"
   ]
  },
  {
   "cell_type": "code",
   "execution_count": null,
   "metadata": {},
   "outputs": [],
   "source": [
    "SIZE2= 100; org_mean2= 15; org_var2= 25\n",
    "\n",
    "DATA2= BM_technique(SIZE2, org_mean2, org_var2)\n",
    "DATA2\n",
    "\n",
    "mean2= mean(DATA2, SIZE2); var2= variance(DATA2, SIZE2, mean2)\n",
    "\n",
    "# Setting style\n",
    "plt.figure( figsize=(14,6))\n",
    "plt.style.use( 'seaborn-v0_8' )\n",
    "\n",
    "plt.title(f\"Normal Distribution with mean {mean2} and variance {var2}\")\n",
    "plt.xlabel('Data'); plt.ylabel('Frequency')\n",
    "\n",
    "plt.hist( DATA2, bins= 50 )\n",
    "plt.show()"
   ]
  },
  {
   "cell_type": "markdown",
   "metadata": {},
   "source": [
    "## _Part 2_"
   ]
  },
  {
   "cell_type": "markdown",
   "metadata": {},
   "source": [
    "### _Methodology_"
   ]
  },
  {
   "cell_type": "markdown",
   "metadata": {},
   "source": [
    "- #### The Critical region is defined as a region C in higher dimensions in which the hypothesis $ H_0 $ is rejected if the random sample $ X_1, X_2, ....., X_n $ lies in it.\n",
    "  ##### Accepted when $ (X_1, X_2,......, X_n) \\; \\notin \\; C $\n",
    "  ##### Rejected when $ (X_1, X_2,......, X_n) \\; \\in \\; C $\n",
    "\n",
    "- #### There can be 2 types of errors while testing a hypothesis:\n",
    "  1. ##### Type 1 error: When $ H_0 $ is correct but we have assumed it to be wrong. This provides us with the significance value alpha.\n",
    "  2. ##### Type 2 error: When $ H_0 $ is wrong but we have taken it to be correct. This provides us with the OC(Operating Characteristic) or (1 - Power)\n",
    "\n",
    "- #### Now, We define the critical region in a better manner:\n",
    "  ##### $$  C = \\{ \\; (X_1, X_2,........, X_n) \\; : \\; |\\bar{X} - \\mu| > c \\} $$\n",
    "\n",
    "- #### After defining the critical region as given in the question, we get the critical value c to be 5.\n",
    "\n",
    "- #### When we will find the values for $ \\alpha $, We will consider both the cases:\n",
    "  - ##### When we know the variance.\n",
    "  - ##### When we do not know the variance.\n",
    "\n",
    "- #### Here, we consider that the Null hypothesis H_0 is true and we find the significance level for the Type 1 error and We are checking it for the crictical region in which $ \\bar{X} \\geq 20 $.\n",
    "\n",
    "- #### We can simplify the equation for critical for critical region as:\n",
    "  ##### $$ H_0: \\bar{X}-15 \\geq 5 \\; and \\; H_1: \\bar{X}-18 \\geq 2 $$\n",
    "\n",
    "- #### Hence, the value of c_0 and c_1 comes out to be 5 and 2 respectively."
   ]
  },
  {
   "cell_type": "markdown",
   "metadata": {},
   "source": [
    "### _Code_"
   ]
  },
  {
   "cell_type": "code",
   "execution_count": null,
   "metadata": {},
   "outputs": [],
   "source": [
    "X2_bar: float= mean2\n",
    "q2_H0: int= 15; q2_H1: int= 18\n",
    "c2_h0= 5; c2_h1= 2\n",
    "\n",
    "# Finding the actual critical value obtained from LHS\n",
    "val2_H0= X2_bar - q2_H0\n",
    "val2_H1= X2_bar - q2_H1\n",
    "\n",
    "print(f\"The actual critical values for the LHS in the above given equations have come out to be {round(val2_H0, 3)} and {round(val2_H1, 3)} for the null and alternate hypothesis respectively.\")"
   ]
  },
  {
   "cell_type": "markdown",
   "metadata": {},
   "source": [
    "## _Part 3_"
   ]
  },
  {
   "cell_type": "markdown",
   "metadata": {},
   "source": [
    "### _Methodology_"
   ]
  },
  {
   "cell_type": "markdown",
   "metadata": {},
   "source": [
    "#### When we know about the Variance\n",
    "\n",
    "  - #### The critical value can be found in the below manner:\n",
    "    ##### $$  P_0 ( \\; | \\bar{X} - \\mu{}_0 | > c  \\; ) = \\alpha   $$ \n",
    "\n",
    "  - #### We can convert $\\bar{X} $ to a standard normal variable through the below method:\n",
    "    ##### $$  Z= \\frac{ \\sqrt{n} (\\bar{X} - \\mu_0) }{ \\sigma }    $$\n",
    "\n",
    "  - #### Through this, we can derive the critical value:\n",
    "    ##### $$ z_{\\alpha/2} = \\frac{c\\sqrt{n}}{\\alpha}  $$\n",
    "\n",
    "#### When we do not know about the Variance\n",
    "\n",
    "  - #### Here, we take the sample mean in place of the original mean as it is unknown. Throught this, we get our test-statistic to follow the t-distribution.\n",
    "\n",
    "  - #### The critical value can be found in the below manner:\n",
    "    ##### $$  P_0 ( \\; | \\bar{X} - \\mu{}_0 | > c  \\; ) = \\alpha   $$ \n",
    "\n",
    "  - #### We can convert $\\bar{X} $ to a standard normal variable through the below method:\n",
    "    ##### $$  T= \\frac{ \\sqrt{n} (\\bar{X} - \\mu_0) }{ S }    $$\n",
    "\n",
    "  - #### Through this, we can derive the critical value:\n",
    "    ##### $$ t_{\\alpha/2} = \\frac{c\\sqrt{n}}{S}  $$\n",
    "\n",
    "  - #### Other rules are applied here similarly."
   ]
  },
  {
   "cell_type": "markdown",
   "metadata": {},
   "source": [
    "### _Code_"
   ]
  },
  {
   "cell_type": "code",
   "execution_count": null,
   "metadata": {},
   "outputs": [],
   "source": [
    "\"\"\"  When Variance is known \"\"\"\n",
    "\n",
    "Z_h0= mt.sqrt(SIZE2)*abs(val2_H0) / mt.sqrt(org_var2); Z_h1= mt.sqrt(SIZE2)*abs(val2_H1) / mt.sqrt(org_var2)\n",
    "z_h0= c2_h0 * mt.sqrt(SIZE2/org_var2); z_h1= c2_h1* mt.sqrt(SIZE2/org_var2)\n",
    "\n",
    "print(f\"When Variance is known:\\n\\n  1. For the Null Hypothesis, Z= {Z_h0} and z={z_h0}\\n  2. For the alternate hypothesis, Z={Z_h1} and z={z_h1}\", end=\"\\n\\n\\n\")\n",
    "\n",
    "\"\"\"  When Variance is unknown \"\"\"\n",
    "T_h0= mt.sqrt(SIZE2)*abs(val2_H0) / mt.sqrt(var2); T_h1= mt.sqrt(SIZE2)*abs(var2) / mt.sqrt(var2)\n",
    "t_h0= c2_h0 * mt.sqrt(SIZE2/var2); t_h1= c2_h1* mt.sqrt(SIZE2/var2)\n",
    "\n",
    "print(f\"When Variance is known:\\n\\n  1. For the Null Hypothesis, T= {T_h0} and t={t_h0}\\n  2. For the alternate hypothesis, T={T_h1} and t={t_h1}\", end=\"\\n\\n\")"
   ]
  },
  {
   "cell_type": "markdown",
   "metadata": {},
   "source": [
    "## _Part 4_"
   ]
  },
  {
   "cell_type": "markdown",
   "metadata": {},
   "source": [
    "### _Methodology_"
   ]
  },
  {
   "cell_type": "markdown",
   "metadata": {},
   "source": [
    "- #### Now, we find the power of test-statistic with the help of the OC(Operating characteristic).\n",
    "\n",
    "- #### During this, we are taking the case of _Type 2_ error for the alternate hypothesis where We accept the alternate hypothesis but it is wrong.\n",
    "\n",
    "- #### The value for this probability depends on the orignial mean taken.\n",
    "\n",
    "- #### We define a term $ \\beta $ as follows:\n",
    "  ##### $$ \\beta(\\mu) = P_{\\mu}(acceptance of H_0) $$\n",
    "  ##### $$ P_{\\mu}\\{ \\mid{ \\frac{ \\sqrt{n}(\\bar{X}-\\mu_{0}) }{S} } \\mid \\;\\; \\leq \\;\\; z_{\\alpha/2} \\} $$\n",
    "\n",
    "- #### Solving this expression gives us the result:\n",
    "  #### $$ \\beta(\\mu) = \\phi{}( \\frac{\\mu_0 - \\mu}{S/\\sqrt{n}} \\; + \\; z_{\\alpha/2}) - \\phi{}( \\frac{\\mu_0 - \\mu}{S\\sqrt{n}} \\; - \\; z_{\\alpha/2} ) $$\n",
    "\n",
    "- #### In the above expression, $ \\phi $ is the standard normal distribution function. The Expression for Power is as follows:\n",
    "  ##### $$ Power = \\; 1 \\; - \\; \\beta{}(\\mu) $$\n",
    "   \n",
    "- #### For the ease of calculation, we ignore the latter part in the calculation of $ \\beta $ and we can write the remaining as follows:\n",
    "  #### $$ \\beta(\\mu) = \\phi{}( \\frac{\\mu_0 - \\mu}{S/\\sqrt{n}} \\; + \\; z_{\\alpha/2}) $$\n",
    "  #### $$ \\beta(\\mu) = P(Z > \\frac{\\mu_0 - \\mu}{S/\\sqrt{n}} \\; + \\; z_{\\alpha/2} ) = P(Z < - ( \\frac{\\mu_0 - \\mu}{S/\\sqrt{n}} \\; + \\; z_{\\alpha/2}  )) $$\n",
    "  #### $$ \\beta(\\mu) = \\phi(-z_{\\beta})  $$\n"
   ]
  },
  {
   "cell_type": "markdown",
   "metadata": {},
   "source": [
    "### _Code_"
   ]
  },
  {
   "cell_type": "code",
   "execution_count": null,
   "metadata": {},
   "outputs": [],
   "source": [
    "from scipy.stats import norm\n",
    "\n",
    "C= (org_mean2 - mean2)* mt.sqrt(SIZE2) / mt.sqrt(var2)\n",
    "upper2= C+z_h1; lower2= C- z_h1\n",
    "\n",
    "beta= norm.cdf(-upper2)\n",
    "Power= 1- beta\n",
    "Power"
   ]
  },
  {
   "cell_type": "markdown",
   "metadata": {},
   "source": [
    "## _Observations_"
   ]
  },
  {
   "cell_type": "markdown",
   "metadata": {},
   "source": [
    "- #### Through this, we can see that we get a high Power for the alternate hypothesis.\n",
    "\n",
    "- #### Here too, we can infer that the higher value is due to a large value of $ \\sqrt{n}/\\sigma $ "
   ]
  },
  {
   "cell_type": "markdown",
   "metadata": {},
   "source": [
    "# Question 3"
   ]
  },
  {
   "cell_type": "markdown",
   "metadata": {},
   "source": [
    "## _Introduction_"
   ]
  },
  {
   "cell_type": "markdown",
   "metadata": {},
   "source": [
    "### In a study on music’s effect on memory, 40 participants are split: one group listens to classical music while studying, and the other studies silently. After a memory test, scores are recorded.\n",
    "  - #### Scores of the classical music group:\n",
    "    #### 78, 82, 85, 79, 81, 83, 80, 77, 79, 84, 76, 82, 80, 81, 83, 78, 82, 79, 81, 83,77, 80, 81, 84, 79, 82, 80, 82, 83, 78, 75, 78, 82, 83, 76, 80, 82, 84, 77, 79\n",
    "  \n",
    "  - #### The mean score before the study is 75. Researchers hypothesize that listening to classical music improves memory, leading to a sample mean significantly higher than 75.\n",
    "\n",
    "### 1. Test if the sample mean is significantly different from 75 at the 0.05 level. Report p value.\n",
    "### 2. After review, one score of 85 was mistakenly recorded as 75. Are the corrected scores significantly different from 75 at the 0.05 level?"
   ]
  },
  {
   "cell_type": "markdown",
   "metadata": {},
   "source": [
    "## _Initial Test_"
   ]
  },
  {
   "cell_type": "markdown",
   "metadata": {},
   "source": [
    "### _Data_"
   ]
  },
  {
   "cell_type": "code",
   "execution_count": null,
   "metadata": {},
   "outputs": [],
   "source": [
    "alpha= 0.05\n",
    "\n",
    "data3= [ 78, 82, 85, 79, 81, 83, 80, 77, 79, 84, 76, 82, 80, 81, 83, 78, 82, 79, 81, 83,77, 80, 81, 84, 79, 82, 80, 82, 83, 78, 75, 78, 82, 83, 76, 80, 82, 84, 77, 79 ]\n",
    "size3= len(data3)\n",
    "\n",
    "org_mean3= 75; mean3= mean(data3, size3); var3= variance(data3, size3, mean3)\n",
    "print(f\"The original mean was {org_mean3} whereas the sample mean and sample variance are {mean3} and {var3}\")"
   ]
  },
  {
   "cell_type": "markdown",
   "metadata": {},
   "source": [
    "### _Hypothesis_\n",
    "\n",
    "- #### Here, we are taking the assumption that the Standard Normal distribution is followed.\n",
    "\n",
    "- #### The hypothesis given by the scientists is that people who listen to classical music get a greater score in memory test.\n",
    "\n",
    "- #### For this, we take the estimator to be $ \\bar{X} $.\n",
    "\n",
    "- #### The initial hypothesis is that:\n",
    "  ##### $$ H_0: \\;\\; \\bar{X}= 75 \\;\\;,\\;\\; H_1: \\bar{X}>75 \\;\\; $$\n",
    "\n",
    "- #### This can be considered as the example of One-sided tests. Hence, we can get the equation for the critical region as:\n",
    "  ##### $$ Accept \\;\\; H_0: \\frac{\\sqrt{n}(X − μ_0 )}{S}≤ \\frac{t_{α/2,n-1}\\sqrt{n}}{S} $$\n",
    "  ##### $$ Reject \\;\\; H_0: \\frac{\\sqrt{n}(X − μ_0 )}{S}> \\frac{t_{α/2,n-1}\\sqrt{n}}{S} $$\n",
    "\n",
    "- #### Notice here that, we have taken $ \\alpha $ in place of $ \\alpha/2 $ as we are only considering one-sided test."
   ]
  },
  {
   "cell_type": "code",
   "execution_count": null,
   "metadata": {},
   "outputs": [],
   "source": [
    "Z3= mt.sqrt(size3) * (mean3 - 75) / mt.sqrt(var3)\n",
    "print(f\"The value for Z and p-value are {Z3} and {1-norm.cdf(Z3)}\")"
   ]
  },
  {
   "cell_type": "markdown",
   "metadata": {},
   "source": [
    "## _Test After updating values_"
   ]
  },
  {
   "cell_type": "markdown",
   "metadata": {},
   "source": [
    "### _Data_"
   ]
  },
  {
   "cell_type": "code",
   "execution_count": null,
   "metadata": {},
   "outputs": [],
   "source": [
    "alpha= 0.05\n",
    "\n",
    "data3.remove(75)\n",
    "data4= data3\n",
    "data4.append(85)\n",
    "\n",
    "size4= len(data4)\n",
    "\n",
    "org_mean4= 75; mean4= mean(data4, size4); var4= variance(data4, size4, mean4)\n",
    "print(f\"The original mean was {org_mean4} whereas the sample mean and sample variance are {mean4} and {var4}\")"
   ]
  },
  {
   "cell_type": "markdown",
   "metadata": {},
   "source": [
    "### _Hypothesis_\n",
    "\n",
    "- #### Here, we are taking the assumption that the Standard Normal distribution is followed.\n",
    "\n",
    "- #### The hypothesis given by the scientists is that people who listen to classical music get a greater score in memory test.\n",
    "\n",
    "- #### For this, we take the estimator to be $ \\bar{X} $.\n",
    "\n",
    "- #### The initial hypothesis is that:\n",
    "  ##### $$ H_0: \\;\\; \\bar{X}= 75 \\;\\;,\\;\\; H_1: \\bar{X}>75 \\;\\; $$\n",
    "\n",
    "- #### This can be considered as the example of One-sided tests. Hence, we can get the equation for the critical region as:\n",
    "  ##### $$ Accept \\;\\; H_0: \\frac{\\sqrt{n}(X − μ_0 )}{S}≤ \\frac{z_α\\sqrt{n}}{S} $$\n",
    "  ##### $$ Reject \\;\\; H_0: \\frac{\\sqrt{n}(X − μ_0 )}{S}> \\frac{z_α\\sqrt{n}}{S} $$\n",
    "\n",
    "- #### Notice here that, we have taken $ \\alpha $ in place of $ \\alpha/2 $ as we are only considering one-sided test."
   ]
  },
  {
   "cell_type": "code",
   "execution_count": null,
   "metadata": {},
   "outputs": [],
   "source": [
    "Z4= mt.sqrt(size4) * (mean4 - 75) / mt.sqrt(var4)\n",
    "print(f\"The value for Z and p-value are {Z4} and {1-norm.cdf(Z4)}\")"
   ]
  },
  {
   "cell_type": "markdown",
   "metadata": {},
   "source": [
    "# References"
   ]
  },
  {
   "cell_type": "markdown",
   "metadata": {},
   "source": [
    "- #### [Help in Markdown](https://kapeli.com/cheat_sheets/LaTeX_Math_Symbols.docset/Contents/Resources/Documents/index)\n",
    "- #### [Box-Muller Technique](https://www.statisticshowto.com/box-muller-transform-simple-definition/)"
   ]
  }
 ],
 "metadata": {
  "kernelspec": {
   "display_name": "Python 3",
   "language": "python",
   "name": "python3"
  },
  "language_info": {
   "codemirror_mode": {
    "name": "ipython",
    "version": 3
   },
   "file_extension": ".py",
   "mimetype": "text/x-python",
   "name": "python",
   "nbconvert_exporter": "python",
   "pygments_lexer": "ipython3",
   "version": "3.12.2"
  }
 },
 "nbformat": 4,
 "nbformat_minor": 2
}
