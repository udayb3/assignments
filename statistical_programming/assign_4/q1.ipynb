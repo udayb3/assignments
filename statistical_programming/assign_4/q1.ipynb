{
 "cells": [
  {
   "cell_type": "markdown",
   "metadata": {},
   "source": [
    "## _Part 2_"
   ]
  },
  {
   "cell_type": "markdown",
   "metadata": {},
   "source": [
    "### _Methodology_"
   ]
  },
  {
   "cell_type": "markdown",
   "metadata": {},
   "source": [
    "- #### Now, We define the critical region in a better manner:\n",
    "  ##### $$  C = \\{ \\; (X_1, X_2,........, X_n) \\; : \\; |\\bar{X} - \\mu| > c \\}   $$\n",
    "\n",
    "- #### We can simplify the equation for critical for critical region as:\n",
    "  ##### $$ H_0: \\bar{X}-0.2 \\geq 2.8 \\; and \\; H_1: \\bar{X}-0.6 \\geq 2.4 $$\n",
    "\n",
    "- #### Hence, the value of $ c_0 \\; and \\; c_1 $ comes out to be 2.8 and 2.4 respectively."
   ]
  },
  {
   "cell_type": "markdown",
   "metadata": {},
   "source": [
    "### _Code_"
   ]
  },
  {
   "cell_type": "code",
   "execution_count": null,
   "metadata": {},
   "outputs": [
    {
     "name": "stdout",
     "output_type": "stream",
     "text": [
      "The critical values from the null hypothesis and the alternate hypothesis has come out to be 0.7952999999999999 and 0.3953\n"
     ]
    }
   ],
   "source": [
    "c0_1= mean- 0.2; c1_1= mean - 0.6\n",
    "print(f\"The critical values from the null hypothesis and the alternate hypothesis has come out to be {c0_1} and {c1_1}\")"
   ]
  },
  {
   "cell_type": "markdown",
   "metadata": {},
   "source": [
    "## _Part 3_"
   ]
  },
  {
   "cell_type": "markdown",
   "metadata": {},
   "source": [
    "### _Methodology_"
   ]
  },
  {
   "cell_type": "markdown",
   "metadata": {},
   "source": [
    "  - #### With the application of Central Limit Theorem, We take the assumption that the mean of all the Poisson samples follow the Normal distribution with unknown mean and variance.\n",
    "  \n",
    "  - #### The critical value can be found in the below manner:\n",
    "    ##### $$  P_0 ( \\; | \\bar{X} - \\mu{}_0 | > c  \\; ) = \\alpha $$ \n",
    "\n",
    "  - #### We can convert $\\bar{X} $ to a standard normal variable through the below method:\n",
    "    ##### $$  Z= \\frac{ \\sqrt{n} (\\bar{X} - \\mu_0) }{ S } $$\n",
    "\n",
    "  - #### Through this, we can derive the critical value:\n",
    "    ##### $$ z_{\\alpha/2} = \\frac{c\\sqrt{n}}{S} $$"
   ]
  },
  {
   "cell_type": "markdown",
   "metadata": {},
   "source": [
    "### _Code_"
   ]
  },
  {
   "cell_type": "code",
   "execution_count": null,
   "metadata": {},
   "outputs": [
    {
     "name": "stdout",
     "output_type": "stream",
     "text": [
      "The values of T and t for the equation presented are 79.98408243931954 and 79.98008313521247 respectively\n"
     ]
    },
    {
     "data": {
      "text/plain": [
       "1.0"
      ]
     },
     "metadata": {},
     "output_type": "display_data"
    }
   ],
   "source": [
    "from scipy.stats import t as t_dis\n",
    "\n",
    "# Finding alpha for the null hypothesis\n",
    "T1= mt.sqrt(size) * ( mean - h0_1 ) / mt.sqrt(var1)\n",
    "t1= c0_1*mt.sqrt(size)/mt.sqrt(((var1/(size-1)))*(size))\n",
    "\n",
    "print(f\"The values of T and t for the equation presented are {T1} and {t1} respectively\")\n",
    "t_dis.cdf( T1,9999)"
   ]
  },
  {
   "cell_type": "markdown",
   "metadata": {},
   "source": [
    "## _Part 4_"
   ]
  },
  {
   "cell_type": "markdown",
   "metadata": {},
   "source": [
    "### _Methodology_"
   ]
  },
  {
   "cell_type": "markdown",
   "metadata": {},
   "source": [
    "- #### We define a term $ \\beta $ as follows:\n",
    "  ##### $$ \\beta(\\mu) = P_{\\mu}(acceptance \\; of \\; H_1) $$\n",
    "  ##### $$ P_{\\mu}\\{ \\mid{ \\frac{ \\sqrt{n}(\\bar{X}-\\mu_{0}) }{S} } \\mid \\;\\; \\leq \\;\\; z_{\\alpha/2} \\} $$\n",
    "\n",
    "- #### $ \\phi $ is the standard normal distribution function. The Expression for Power is as follows:\n",
    "  ##### $$ Power = \\; 1 \\; - \\; \\beta{}(\\mu) $$\n",
    "   \n",
    "- #### For the ease of calculation, we ignore the latter part in the calculation of $ \\beta $ and we can write the remaining as follows:\n",
    "  #### $$ \\beta(\\mu) = \\phi{}( \\frac{\\mu_0 - \\mu}{S/\\sqrt{n}} \\; + \\; z_{\\alpha/2}) $$\n",
    "  #### $$ \\beta(\\mu) = \\phi(-z_{\\beta})  $$"
   ]
  },
  {
   "cell_type": "markdown",
   "metadata": {},
   "source": [
    "### _Code_"
   ]
  },
  {
   "cell_type": "code",
   "execution_count": null,
   "metadata": {},
   "outputs": [
    {
     "name": "stdout",
     "output_type": "stream",
     "text": [
      "The values for Beta and Power for the Alternate hypothesis are 0.0 and 1.0.\n"
     ]
    }
   ],
   "source": [
    "from scipy.stats import norm\n",
    "\n",
    "C= (true_mean - mean)* mt.sqrt(size) / mt.sqrt(var1)\n",
    "upper2= C + t1; lower2= C - t1\n",
    "\n",
    "beta= norm.cdf(-upper2)\n",
    "print(f\"The values for Beta and Power for the Alternate hypothesis are {beta} and {1-beta}.\")"
   ]
  }
 ],
 "metadata": {
  "language_info": {
   "name": "python"
  }
 },
 "nbformat": 4,
 "nbformat_minor": 2
}
