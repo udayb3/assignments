{
 "cells": [
  {
   "cell_type": "markdown",
   "metadata": {
    "id": "xcVRLdfHTnKz"
   },
   "source": [
    "# Lab HW 6"
   ]
  },
  {
   "cell_type": "code",
   "execution_count": null,
   "metadata": {
    "id": "LvX6PqhuqzFS"
   },
   "outputs": [],
   "source": [
    "!CT_CUBLAS=1 pip install ctransformers --no-binary ctransformers --q"
   ]
  },
  {
   "cell_type": "markdown",
   "metadata": {
    "id": "EtzRBPJo7ALY"
   },
   "source": [
    "### **Lab-questions:**\n",
    "\n",
    "### Note: Run the gpu before using the notebook."
   ]
  },
  {
   "cell_type": "markdown",
   "metadata": {
    "id": "5VHpzC2wXiKl"
   },
   "source": [
    "## Q1.Use an open-source LLM (Llama-2) for a question-answering task to perform zero-shot and few-shot prompting(max-3 shots).\n"
   ]
  },
  {
   "cell_type": "markdown",
   "metadata": {
    "id": "mvgROZdbY4Ze"
   },
   "source": [
    "### Using the open-sourcce llama-2 for performing question answering task.\n"
   ]
  },
  {
   "cell_type": "code",
   "execution_count": null,
   "metadata": {
    "colab": {
     "base_uri": "https://localhost:8080/",
     "height": 81,
     "referenced_widgets": [
      "f43439d915814d0eb5cb081afef62512",
      "596845b26af043d6a44d14aeffff3349",
      "c87909e0310b4bc9b08c4862ee1d5bae",
      "084e95570077463d843d3ed3add3b529",
      "a3d581de3e7b4aed9f1ce3e894d1b904",
      "12776722a3314d6c9d3183c1bd57ae4d",
      "c89795c3943e44869b1dd33ba4560b29",
      "9dd6c976dcbc41bea5ae8937c23db9ac",
      "a43c7bc8b1ae4431abb550cb1a738bed",
      "90639cec6a844a84b0047dd8a149eb51",
      "86e6cb9fa1ef46a591446477bda02415",
      "0edd478d602d4a9aac3a799e6aae0a17",
      "b71d864d6bf54f82947d0715c0a6f4b6",
      "d6ad6c5db2f146dabecd87642d935ccd",
      "a99175ad479c4ebe8cd188635bedbea3",
      "31b52fad894140849480d6564b9fa50b",
      "5889e136210f4b4abcaaef80c9bcc9a5",
      "d0d8ff7f41ee40789a686cc4cb4dcbe9",
      "a564c5eb59a34a0380e4aae8d7accf8b",
      "c29556816dae40b8964a5befa378a21e",
      "e82c45c815424c868088092cb3812f4d",
      "e91419c56b17402abfc0fd70da879807"
     ]
    },
    "id": "CXUh0E-d3RYc",
    "outputId": "3c49c255-4bd0-46df-954d-b9e2def796df"
   },
   "outputs": [],
   "source": [
    "from ctransformers import AutoModelForCausalLM\n",
    "import time\n",
    "\n",
    "model_name = \"TheBloke/Llama-2-7B-Chat-GGML\"; quantized_file = \"llama-2-7b-chat.ggmlv3.q4_0.bin\"\n",
    "\n",
    "config = {'max_new_tokens': 256, 'repetition_penalty': 1.1, 'temperature': 0.1, 'stream': True}\n",
    "llm = AutoModelForCausalLM.from_pretrained(\n",
    "      model_name,\n",
    "      model_type=\"llama\",\n",
    "      model_file=quantized_file,\n",
    "      **config,\n",
    "      gpu_layers= 150\n",
    ")"
   ]
  },
  {
   "cell_type": "code",
   "execution_count": null,
   "metadata": {
    "colab": {
     "base_uri": "https://localhost:8080/"
    },
    "id": "Xsehu86GWx8x",
    "outputId": "0c03fbab-d53c-4657-f148-39d4e599042f"
   },
   "outputs": [],
   "source": [
    "zero_shot_prompt = 'Where is Taj Mahal located in the world?'\n",
    "thr_shot_prompt =     'Where is Taj Mahal located in the world: '    + ' Agra.' +    ' Where is Qutub Minar located in the world: '  + ' Delhi.' + ' Where is Hawa Mahal located in the world: ' + 'Jaipur.' + 'Where is Eiffel tower located in the world: '\n",
    "\n",
    "tokens0= llm.tokenize(zero_shot_prompt)\n",
    "st1 = time.time()\n",
    "NUM_TOKENS1=0\n",
    "for token in llm.generate(tokens0):\n",
    "    print(llm.detokenize(token), end='', flush=True)\n",
    "    NUM_TOKENS1+=1;\n",
    "    if(NUM_TOKENS1==100):\n",
    "      break\n",
    "time_generate = time.time() - st1\n",
    "print(f\"\\nTotal Time taken: {time_generate}\")"
   ]
  },
  {
   "cell_type": "code",
   "execution_count": null,
   "metadata": {
    "colab": {
     "base_uri": "https://localhost:8080/"
    },
    "id": "7_4wydFcXTUK",
    "outputId": "f20397f2-8b1e-4eb5-e195-eafeedddd1c5"
   },
   "outputs": [],
   "source": [
    "# three shot prompting\n",
    "tokens1= llm.tokenize(thr_shot_prompt)\n",
    "st1 = time.time()\n",
    "NUM_TOKENS2=0\n",
    "for token in llm.generate(tokens1):\n",
    "    print(llm.detokenize(token), end='', flush=True)\n",
    "    NUM_TOKENS2+=1\n",
    "    if(NUM_TOKENS2==100):\n",
    "      break\n",
    "time_generate = time.time() - st1\n",
    "print(f\"\\nTotal Time taken: {time_generate}\")"
   ]
  },
  {
   "cell_type": "markdown",
   "metadata": {
    "id": "sl7aO1n9ZXop"
   },
   "source": [
    "## Q2.Create a RAG setup:\n",
    "Retrieve relevant paragraphs from the following wikipedia links:\n",
    "- (https://en.wikipedia.org/wiki/French_First_Republic)\n",
    "- (https://en.wikipedia.org/wiki/Marie_Antoinette)\n",
    "- (https://en.wikipedia.org/wiki/French_Revolutionary_Wars)\n",
    "- (https://en.wikipedia.org/wiki/Palace_of_Versailles) and answer the questions in the given file.\n",
    "\n",
    "Feed the question and relevant context (paragraphs) to the model.\n",
    "Generate a detailed answer.\n",
    "\n",
    "Evaluate on the following:\n",
    "\n",
    "1.Measure the percentage of answers that exactly match the ground-truth answers.\n",
    "\n",
    "2.F1-score\n",
    "\n"
   ]
  },
  {
   "cell_type": "code",
   "execution_count": null,
   "metadata": {
    "colab": {
     "base_uri": "https://localhost:8080/"
    },
    "id": "rxYXLB4KbPhn",
    "outputId": "4ab80a41-1169-4fe9-e8f3-a2a829108aae"
   },
   "outputs": [],
   "source": [
    "!pip install langchain sentence-transformers faiss-cpu langchain-community wikipedia langchain_chroma chromadb"
   ]
  },
  {
   "cell_type": "code",
   "execution_count": null,
   "metadata": {
    "colab": {
     "base_uri": "https://localhost:8080/"
    },
    "id": "Ls0Jz1B0PgsJ",
    "outputId": "368ac662-fe45-4dd4-897b-cfebf0385a2b"
   },
   "outputs": [],
   "source": [
    "import bs4\n",
    "from langchain_community.document_loaders import WikipediaLoader\n",
    "from langchain_text_splitters import RecursiveCharacterTextSplitter\n",
    "import numpy as np\n",
    "import json\n",
    "from langchain.document_loaders import WikipediaLoader\n",
    "from langchain.embeddings.base import Embeddings\n",
    "from langchain.vectorstores import Chroma\n",
    "from ctransformers import AutoModelForCausalLM\n",
    "from langchain.schema import HumanMessage\n",
    "import time\n",
    "import json\n",
    "\n",
    "\n",
    "docs= []; wiki_pages= [\"French First Republic\", \"Mario Antoinette\", \"French Revolutionary Wars\", \"Palace of Versailles\"]\n",
    "for page in wiki_pages:\n",
    "  loader = WikipediaLoader(query=page, lang=\"en\")\n",
    "  doc = loader.load()\n",
    "  docs.append(doc)\n",
    "\n",
    "splitt = RecursiveCharacterTextSplitter( chunk_size=1000, chunk_overlap=200, add_start_index=True)\n",
    "\n",
    "all_split= []\n",
    "for doc in docs:\n",
    "  cur_split = splitt.split_documents(doc)\n",
    "  all_split.extend(cur_split)"
   ]
  },
  {
   "cell_type": "code",
   "execution_count": null,
   "metadata": {
    "id": "8dO1KihIPN1V"
   },
   "outputs": [],
   "source": [
    "with open('data.json', 'r') as file:\n",
    "    data = json.load(file)\n",
    "\n",
    "questions= []; answers= []\n",
    "for item in data:\n",
    "  questions.append(item['question'])\n",
    "  answers.append(item['answer'])"
   ]
  },
  {
   "cell_type": "code",
   "execution_count": null,
   "metadata": {
    "id": "HInQ30V7UIdN"
   },
   "outputs": [],
   "source": [
    "class CTransformersEmbeddings(Embeddings):\n",
    "    def __init__(self, model):\n",
    "        self.model = model\n",
    "\n",
    "    def embed_documents(self, texts):\n",
    "        \"\"\"Embeds a list of documents.\"\"\"\n",
    "        return [self._embed_text(text) for text in texts]\n",
    "\n",
    "    def embed_query(self, text):\n",
    "        \"\"\"Embeds a single query.\"\"\"\n",
    "        return self._embed_text(text)\n",
    "\n",
    "    def _embed_text(self, text):\n",
    "        token_ids = self.model.tokenize(text)\n",
    "        embedding = np.mean(token_ids).astype(np.float32)\n",
    "        embedding_vector = np.full((768,), embedding)\n",
    "\n",
    "        return embedding_vector\n",
    "\n",
    "embedding = CTransformersEmbeddings(model=llm)\n",
    "vectorstore = Chroma.from_documents(documents=all_split, embedding=embedding)"
   ]
  },
  {
   "cell_type": "code",
   "execution_count": null,
   "metadata": {
    "colab": {
     "base_uri": "https://localhost:8080/"
    },
    "id": "VTLoI6fubJyu",
    "outputId": "6f6d502f-03d6-487d-98fd-0a133540d9d3"
   },
   "outputs": [],
   "source": [
    "def FindAnswer(query):\n",
    "\n",
    "  docs = vectorstore.similarity_search(query, k=1)\n",
    "  context= \"\"\n",
    "  for doc in docs:\n",
    "    context+= doc.page_content + \" \"\n",
    "\n",
    "  prompt_temp= f\"\"\"Take the given Context: {context} and provide the exact answer to the given question:\n",
    "  Question: {query}\n",
    "  \"\"\"\n",
    "  tokens1= llm.tokenize(prompt_temp)\n",
    "\n",
    "  c=0; data= \"\"\n",
    "  for token in llm.generate(tokens1):\n",
    "      t1= llm.detokenize(token)\n",
    "      data+= t1\n",
    "\n",
    "      c+=1\n",
    "      if(c==100):\n",
    "        break\n",
    "  return data\n",
    "\n",
    "predictions= []\n",
    "st1 = time.time()\n",
    "for query in questions:\n",
    "  data= FindAnswer(query)\n",
    "  predictions.append(data)\n",
    "\n",
    "time_taken = time.time() - st1\n",
    "print(f\"\\nTotal Time taken: {time_taken}\")"
   ]
  },
  {
   "cell_type": "code",
   "execution_count": null,
   "metadata": {
    "colab": {
     "base_uri": "https://localhost:8080/"
    },
    "id": "mmQX-602qweo",
    "outputId": "9327f55d-3135-44ae-8b19-1ea4187f5542"
   },
   "outputs": [],
   "source": [
    "def exact_match(pred, real):\n",
    "    return int(pred.strip().lower() == real.strip().lower())\n",
    "\n",
    "def f1_score_custom(pred, real):\n",
    "    pred_tok = pred.lower().split(); truth_tok = real.lower().split()\n",
    "    common = set(pred_tok) & set(truth_tok)\n",
    "    if not common:\n",
    "        return 0.0\n",
    "    precision = len(common) / len(pred_tok)\n",
    "    recall = len(common) / len(truth_tok)\n",
    "    return 2 * (precision * recall) / (precision + recall)\n",
    "\n",
    "exact_matches = 0;  f1_scores = []\n",
    "for i, pred in enumerate(predictions):\n",
    "    ground_truth = answers[i]\n",
    "    exact_matches += exact_match(pred, ground_truth)\n",
    "    f1 = f1_score_custom(pred, ground_truth)\n",
    "    f1_scores.append(f1)\n",
    "\n",
    "num_questions = len(questions)\n",
    "exact_match_percentage = (exact_matches / num_questions) * 100; average_f1_score = sum(f1_scores) / num_questions\n",
    "\n",
    "print(f\"The Percentage of Exact Match: {exact_match_percentage:.2f}%\")\n",
    "print(f\"Finallly, tje average F1 Score has come out to be: {average_f1_score:.2f}\")"
   ]
  }
 ],
 "metadata": {
  "accelerator": "GPU",
  "colab": {
   "gpuType": "T4",
   "provenance": []
  },
  "kernelspec": {
   "display_name": "Python 3",
   "name": "python3"
  },
  "language_info": {
   "name": "python"
  },
  "widgets": {
   "application/vnd.jupyter.widget-state+json": {
    "084e95570077463d843d3ed3add3b529": {
     "model_module": "@jupyter-widgets/controls",
     "model_module_version": "1.5.0",
     "model_name": "HTMLModel",
     "state": {
      "_dom_classes": [],
      "_model_module": "@jupyter-widgets/controls",
      "_model_module_version": "1.5.0",
      "_model_name": "HTMLModel",
      "_view_count": null,
      "_view_module": "@jupyter-widgets/controls",
      "_view_module_version": "1.5.0",
      "_view_name": "HTMLView",
      "description": "",
      "description_tooltip": null,
      "layout": "IPY_MODEL_90639cec6a844a84b0047dd8a149eb51",
      "placeholder": "​",
      "style": "IPY_MODEL_86e6cb9fa1ef46a591446477bda02415",
      "value": " 1/1 [00:00&lt;00:00, 18.14it/s]"
     }
    },
    "0edd478d602d4a9aac3a799e6aae0a17": {
     "model_module": "@jupyter-widgets/controls",
     "model_module_version": "1.5.0",
     "model_name": "HBoxModel",
     "state": {
      "_dom_classes": [],
      "_model_module": "@jupyter-widgets/controls",
      "_model_module_version": "1.5.0",
      "_model_name": "HBoxModel",
      "_view_count": null,
      "_view_module": "@jupyter-widgets/controls",
      "_view_module_version": "1.5.0",
      "_view_name": "HBoxView",
      "box_style": "",
      "children": [
       "IPY_MODEL_b71d864d6bf54f82947d0715c0a6f4b6",
       "IPY_MODEL_d6ad6c5db2f146dabecd87642d935ccd",
       "IPY_MODEL_a99175ad479c4ebe8cd188635bedbea3"
      ],
      "layout": "IPY_MODEL_31b52fad894140849480d6564b9fa50b"
     }
    },
    "12776722a3314d6c9d3183c1bd57ae4d": {
     "model_module": "@jupyter-widgets/base",
     "model_module_version": "1.2.0",
     "model_name": "LayoutModel",
     "state": {
      "_model_module": "@jupyter-widgets/base",
      "_model_module_version": "1.2.0",
      "_model_name": "LayoutModel",
      "_view_count": null,
      "_view_module": "@jupyter-widgets/base",
      "_view_module_version": "1.2.0",
      "_view_name": "LayoutView",
      "align_content": null,
      "align_items": null,
      "align_self": null,
      "border": null,
      "bottom": null,
      "display": null,
      "flex": null,
      "flex_flow": null,
      "grid_area": null,
      "grid_auto_columns": null,
      "grid_auto_flow": null,
      "grid_auto_rows": null,
      "grid_column": null,
      "grid_gap": null,
      "grid_row": null,
      "grid_template_areas": null,
      "grid_template_columns": null,
      "grid_template_rows": null,
      "height": null,
      "justify_content": null,
      "justify_items": null,
      "left": null,
      "margin": null,
      "max_height": null,
      "max_width": null,
      "min_height": null,
      "min_width": null,
      "object_fit": null,
      "object_position": null,
      "order": null,
      "overflow": null,
      "overflow_x": null,
      "overflow_y": null,
      "padding": null,
      "right": null,
      "top": null,
      "visibility": null,
      "width": null
     }
    },
    "31b52fad894140849480d6564b9fa50b": {
     "model_module": "@jupyter-widgets/base",
     "model_module_version": "1.2.0",
     "model_name": "LayoutModel",
     "state": {
      "_model_module": "@jupyter-widgets/base",
      "_model_module_version": "1.2.0",
      "_model_name": "LayoutModel",
      "_view_count": null,
      "_view_module": "@jupyter-widgets/base",
      "_view_module_version": "1.2.0",
      "_view_name": "LayoutView",
      "align_content": null,
      "align_items": null,
      "align_self": null,
      "border": null,
      "bottom": null,
      "display": null,
      "flex": null,
      "flex_flow": null,
      "grid_area": null,
      "grid_auto_columns": null,
      "grid_auto_flow": null,
      "grid_auto_rows": null,
      "grid_column": null,
      "grid_gap": null,
      "grid_row": null,
      "grid_template_areas": null,
      "grid_template_columns": null,
      "grid_template_rows": null,
      "height": null,
      "justify_content": null,
      "justify_items": null,
      "left": null,
      "margin": null,
      "max_height": null,
      "max_width": null,
      "min_height": null,
      "min_width": null,
      "object_fit": null,
      "object_position": null,
      "order": null,
      "overflow": null,
      "overflow_x": null,
      "overflow_y": null,
      "padding": null,
      "right": null,
      "top": null,
      "visibility": null,
      "width": null
     }
    },
    "5889e136210f4b4abcaaef80c9bcc9a5": {
     "model_module": "@jupyter-widgets/base",
     "model_module_version": "1.2.0",
     "model_name": "LayoutModel",
     "state": {
      "_model_module": "@jupyter-widgets/base",
      "_model_module_version": "1.2.0",
      "_model_name": "LayoutModel",
      "_view_count": null,
      "_view_module": "@jupyter-widgets/base",
      "_view_module_version": "1.2.0",
      "_view_name": "LayoutView",
      "align_content": null,
      "align_items": null,
      "align_self": null,
      "border": null,
      "bottom": null,
      "display": null,
      "flex": null,
      "flex_flow": null,
      "grid_area": null,
      "grid_auto_columns": null,
      "grid_auto_flow": null,
      "grid_auto_rows": null,
      "grid_column": null,
      "grid_gap": null,
      "grid_row": null,
      "grid_template_areas": null,
      "grid_template_columns": null,
      "grid_template_rows": null,
      "height": null,
      "justify_content": null,
      "justify_items": null,
      "left": null,
      "margin": null,
      "max_height": null,
      "max_width": null,
      "min_height": null,
      "min_width": null,
      "object_fit": null,
      "object_position": null,
      "order": null,
      "overflow": null,
      "overflow_x": null,
      "overflow_y": null,
      "padding": null,
      "right": null,
      "top": null,
      "visibility": null,
      "width": null
     }
    },
    "596845b26af043d6a44d14aeffff3349": {
     "model_module": "@jupyter-widgets/controls",
     "model_module_version": "1.5.0",
     "model_name": "HTMLModel",
     "state": {
      "_dom_classes": [],
      "_model_module": "@jupyter-widgets/controls",
      "_model_module_version": "1.5.0",
      "_model_name": "HTMLModel",
      "_view_count": null,
      "_view_module": "@jupyter-widgets/controls",
      "_view_module_version": "1.5.0",
      "_view_name": "HTMLView",
      "description": "",
      "description_tooltip": null,
      "layout": "IPY_MODEL_12776722a3314d6c9d3183c1bd57ae4d",
      "placeholder": "​",
      "style": "IPY_MODEL_c89795c3943e44869b1dd33ba4560b29",
      "value": "Fetching 1 files: 100%"
     }
    },
    "86e6cb9fa1ef46a591446477bda02415": {
     "model_module": "@jupyter-widgets/controls",
     "model_module_version": "1.5.0",
     "model_name": "DescriptionStyleModel",
     "state": {
      "_model_module": "@jupyter-widgets/controls",
      "_model_module_version": "1.5.0",
      "_model_name": "DescriptionStyleModel",
      "_view_count": null,
      "_view_module": "@jupyter-widgets/base",
      "_view_module_version": "1.2.0",
      "_view_name": "StyleView",
      "description_width": ""
     }
    },
    "90639cec6a844a84b0047dd8a149eb51": {
     "model_module": "@jupyter-widgets/base",
     "model_module_version": "1.2.0",
     "model_name": "LayoutModel",
     "state": {
      "_model_module": "@jupyter-widgets/base",
      "_model_module_version": "1.2.0",
      "_model_name": "LayoutModel",
      "_view_count": null,
      "_view_module": "@jupyter-widgets/base",
      "_view_module_version": "1.2.0",
      "_view_name": "LayoutView",
      "align_content": null,
      "align_items": null,
      "align_self": null,
      "border": null,
      "bottom": null,
      "display": null,
      "flex": null,
      "flex_flow": null,
      "grid_area": null,
      "grid_auto_columns": null,
      "grid_auto_flow": null,
      "grid_auto_rows": null,
      "grid_column": null,
      "grid_gap": null,
      "grid_row": null,
      "grid_template_areas": null,
      "grid_template_columns": null,
      "grid_template_rows": null,
      "height": null,
      "justify_content": null,
      "justify_items": null,
      "left": null,
      "margin": null,
      "max_height": null,
      "max_width": null,
      "min_height": null,
      "min_width": null,
      "object_fit": null,
      "object_position": null,
      "order": null,
      "overflow": null,
      "overflow_x": null,
      "overflow_y": null,
      "padding": null,
      "right": null,
      "top": null,
      "visibility": null,
      "width": null
     }
    },
    "9dd6c976dcbc41bea5ae8937c23db9ac": {
     "model_module": "@jupyter-widgets/base",
     "model_module_version": "1.2.0",
     "model_name": "LayoutModel",
     "state": {
      "_model_module": "@jupyter-widgets/base",
      "_model_module_version": "1.2.0",
      "_model_name": "LayoutModel",
      "_view_count": null,
      "_view_module": "@jupyter-widgets/base",
      "_view_module_version": "1.2.0",
      "_view_name": "LayoutView",
      "align_content": null,
      "align_items": null,
      "align_self": null,
      "border": null,
      "bottom": null,
      "display": null,
      "flex": null,
      "flex_flow": null,
      "grid_area": null,
      "grid_auto_columns": null,
      "grid_auto_flow": null,
      "grid_auto_rows": null,
      "grid_column": null,
      "grid_gap": null,
      "grid_row": null,
      "grid_template_areas": null,
      "grid_template_columns": null,
      "grid_template_rows": null,
      "height": null,
      "justify_content": null,
      "justify_items": null,
      "left": null,
      "margin": null,
      "max_height": null,
      "max_width": null,
      "min_height": null,
      "min_width": null,
      "object_fit": null,
      "object_position": null,
      "order": null,
      "overflow": null,
      "overflow_x": null,
      "overflow_y": null,
      "padding": null,
      "right": null,
      "top": null,
      "visibility": null,
      "width": null
     }
    },
    "a3d581de3e7b4aed9f1ce3e894d1b904": {
     "model_module": "@jupyter-widgets/base",
     "model_module_version": "1.2.0",
     "model_name": "LayoutModel",
     "state": {
      "_model_module": "@jupyter-widgets/base",
      "_model_module_version": "1.2.0",
      "_model_name": "LayoutModel",
      "_view_count": null,
      "_view_module": "@jupyter-widgets/base",
      "_view_module_version": "1.2.0",
      "_view_name": "LayoutView",
      "align_content": null,
      "align_items": null,
      "align_self": null,
      "border": null,
      "bottom": null,
      "display": null,
      "flex": null,
      "flex_flow": null,
      "grid_area": null,
      "grid_auto_columns": null,
      "grid_auto_flow": null,
      "grid_auto_rows": null,
      "grid_column": null,
      "grid_gap": null,
      "grid_row": null,
      "grid_template_areas": null,
      "grid_template_columns": null,
      "grid_template_rows": null,
      "height": null,
      "justify_content": null,
      "justify_items": null,
      "left": null,
      "margin": null,
      "max_height": null,
      "max_width": null,
      "min_height": null,
      "min_width": null,
      "object_fit": null,
      "object_position": null,
      "order": null,
      "overflow": null,
      "overflow_x": null,
      "overflow_y": null,
      "padding": null,
      "right": null,
      "top": null,
      "visibility": null,
      "width": null
     }
    },
    "a43c7bc8b1ae4431abb550cb1a738bed": {
     "model_module": "@jupyter-widgets/controls",
     "model_module_version": "1.5.0",
     "model_name": "ProgressStyleModel",
     "state": {
      "_model_module": "@jupyter-widgets/controls",
      "_model_module_version": "1.5.0",
      "_model_name": "ProgressStyleModel",
      "_view_count": null,
      "_view_module": "@jupyter-widgets/base",
      "_view_module_version": "1.2.0",
      "_view_name": "StyleView",
      "bar_color": null,
      "description_width": ""
     }
    },
    "a564c5eb59a34a0380e4aae8d7accf8b": {
     "model_module": "@jupyter-widgets/base",
     "model_module_version": "1.2.0",
     "model_name": "LayoutModel",
     "state": {
      "_model_module": "@jupyter-widgets/base",
      "_model_module_version": "1.2.0",
      "_model_name": "LayoutModel",
      "_view_count": null,
      "_view_module": "@jupyter-widgets/base",
      "_view_module_version": "1.2.0",
      "_view_name": "LayoutView",
      "align_content": null,
      "align_items": null,
      "align_self": null,
      "border": null,
      "bottom": null,
      "display": null,
      "flex": null,
      "flex_flow": null,
      "grid_area": null,
      "grid_auto_columns": null,
      "grid_auto_flow": null,
      "grid_auto_rows": null,
      "grid_column": null,
      "grid_gap": null,
      "grid_row": null,
      "grid_template_areas": null,
      "grid_template_columns": null,
      "grid_template_rows": null,
      "height": null,
      "justify_content": null,
      "justify_items": null,
      "left": null,
      "margin": null,
      "max_height": null,
      "max_width": null,
      "min_height": null,
      "min_width": null,
      "object_fit": null,
      "object_position": null,
      "order": null,
      "overflow": null,
      "overflow_x": null,
      "overflow_y": null,
      "padding": null,
      "right": null,
      "top": null,
      "visibility": null,
      "width": null
     }
    },
    "a99175ad479c4ebe8cd188635bedbea3": {
     "model_module": "@jupyter-widgets/controls",
     "model_module_version": "1.5.0",
     "model_name": "HTMLModel",
     "state": {
      "_dom_classes": [],
      "_model_module": "@jupyter-widgets/controls",
      "_model_module_version": "1.5.0",
      "_model_name": "HTMLModel",
      "_view_count": null,
      "_view_module": "@jupyter-widgets/controls",
      "_view_module_version": "1.5.0",
      "_view_name": "HTMLView",
      "description": "",
      "description_tooltip": null,
      "layout": "IPY_MODEL_e82c45c815424c868088092cb3812f4d",
      "placeholder": "​",
      "style": "IPY_MODEL_e91419c56b17402abfc0fd70da879807",
      "value": " 1/1 [00:00&lt;00:00, 25.57it/s]"
     }
    },
    "b71d864d6bf54f82947d0715c0a6f4b6": {
     "model_module": "@jupyter-widgets/controls",
     "model_module_version": "1.5.0",
     "model_name": "HTMLModel",
     "state": {
      "_dom_classes": [],
      "_model_module": "@jupyter-widgets/controls",
      "_model_module_version": "1.5.0",
      "_model_name": "HTMLModel",
      "_view_count": null,
      "_view_module": "@jupyter-widgets/controls",
      "_view_module_version": "1.5.0",
      "_view_name": "HTMLView",
      "description": "",
      "description_tooltip": null,
      "layout": "IPY_MODEL_5889e136210f4b4abcaaef80c9bcc9a5",
      "placeholder": "​",
      "style": "IPY_MODEL_d0d8ff7f41ee40789a686cc4cb4dcbe9",
      "value": "Fetching 1 files: 100%"
     }
    },
    "c29556816dae40b8964a5befa378a21e": {
     "model_module": "@jupyter-widgets/controls",
     "model_module_version": "1.5.0",
     "model_name": "ProgressStyleModel",
     "state": {
      "_model_module": "@jupyter-widgets/controls",
      "_model_module_version": "1.5.0",
      "_model_name": "ProgressStyleModel",
      "_view_count": null,
      "_view_module": "@jupyter-widgets/base",
      "_view_module_version": "1.2.0",
      "_view_name": "StyleView",
      "bar_color": null,
      "description_width": ""
     }
    },
    "c87909e0310b4bc9b08c4862ee1d5bae": {
     "model_module": "@jupyter-widgets/controls",
     "model_module_version": "1.5.0",
     "model_name": "FloatProgressModel",
     "state": {
      "_dom_classes": [],
      "_model_module": "@jupyter-widgets/controls",
      "_model_module_version": "1.5.0",
      "_model_name": "FloatProgressModel",
      "_view_count": null,
      "_view_module": "@jupyter-widgets/controls",
      "_view_module_version": "1.5.0",
      "_view_name": "ProgressView",
      "bar_style": "success",
      "description": "",
      "description_tooltip": null,
      "layout": "IPY_MODEL_9dd6c976dcbc41bea5ae8937c23db9ac",
      "max": 1,
      "min": 0,
      "orientation": "horizontal",
      "style": "IPY_MODEL_a43c7bc8b1ae4431abb550cb1a738bed",
      "value": 1
     }
    },
    "c89795c3943e44869b1dd33ba4560b29": {
     "model_module": "@jupyter-widgets/controls",
     "model_module_version": "1.5.0",
     "model_name": "DescriptionStyleModel",
     "state": {
      "_model_module": "@jupyter-widgets/controls",
      "_model_module_version": "1.5.0",
      "_model_name": "DescriptionStyleModel",
      "_view_count": null,
      "_view_module": "@jupyter-widgets/base",
      "_view_module_version": "1.2.0",
      "_view_name": "StyleView",
      "description_width": ""
     }
    },
    "d0d8ff7f41ee40789a686cc4cb4dcbe9": {
     "model_module": "@jupyter-widgets/controls",
     "model_module_version": "1.5.0",
     "model_name": "DescriptionStyleModel",
     "state": {
      "_model_module": "@jupyter-widgets/controls",
      "_model_module_version": "1.5.0",
      "_model_name": "DescriptionStyleModel",
      "_view_count": null,
      "_view_module": "@jupyter-widgets/base",
      "_view_module_version": "1.2.0",
      "_view_name": "StyleView",
      "description_width": ""
     }
    },
    "d6ad6c5db2f146dabecd87642d935ccd": {
     "model_module": "@jupyter-widgets/controls",
     "model_module_version": "1.5.0",
     "model_name": "FloatProgressModel",
     "state": {
      "_dom_classes": [],
      "_model_module": "@jupyter-widgets/controls",
      "_model_module_version": "1.5.0",
      "_model_name": "FloatProgressModel",
      "_view_count": null,
      "_view_module": "@jupyter-widgets/controls",
      "_view_module_version": "1.5.0",
      "_view_name": "ProgressView",
      "bar_style": "success",
      "description": "",
      "description_tooltip": null,
      "layout": "IPY_MODEL_a564c5eb59a34a0380e4aae8d7accf8b",
      "max": 1,
      "min": 0,
      "orientation": "horizontal",
      "style": "IPY_MODEL_c29556816dae40b8964a5befa378a21e",
      "value": 1
     }
    },
    "e82c45c815424c868088092cb3812f4d": {
     "model_module": "@jupyter-widgets/base",
     "model_module_version": "1.2.0",
     "model_name": "LayoutModel",
     "state": {
      "_model_module": "@jupyter-widgets/base",
      "_model_module_version": "1.2.0",
      "_model_name": "LayoutModel",
      "_view_count": null,
      "_view_module": "@jupyter-widgets/base",
      "_view_module_version": "1.2.0",
      "_view_name": "LayoutView",
      "align_content": null,
      "align_items": null,
      "align_self": null,
      "border": null,
      "bottom": null,
      "display": null,
      "flex": null,
      "flex_flow": null,
      "grid_area": null,
      "grid_auto_columns": null,
      "grid_auto_flow": null,
      "grid_auto_rows": null,
      "grid_column": null,
      "grid_gap": null,
      "grid_row": null,
      "grid_template_areas": null,
      "grid_template_columns": null,
      "grid_template_rows": null,
      "height": null,
      "justify_content": null,
      "justify_items": null,
      "left": null,
      "margin": null,
      "max_height": null,
      "max_width": null,
      "min_height": null,
      "min_width": null,
      "object_fit": null,
      "object_position": null,
      "order": null,
      "overflow": null,
      "overflow_x": null,
      "overflow_y": null,
      "padding": null,
      "right": null,
      "top": null,
      "visibility": null,
      "width": null
     }
    },
    "e91419c56b17402abfc0fd70da879807": {
     "model_module": "@jupyter-widgets/controls",
     "model_module_version": "1.5.0",
     "model_name": "DescriptionStyleModel",
     "state": {
      "_model_module": "@jupyter-widgets/controls",
      "_model_module_version": "1.5.0",
      "_model_name": "DescriptionStyleModel",
      "_view_count": null,
      "_view_module": "@jupyter-widgets/base",
      "_view_module_version": "1.2.0",
      "_view_name": "StyleView",
      "description_width": ""
     }
    },
    "f43439d915814d0eb5cb081afef62512": {
     "model_module": "@jupyter-widgets/controls",
     "model_module_version": "1.5.0",
     "model_name": "HBoxModel",
     "state": {
      "_dom_classes": [],
      "_model_module": "@jupyter-widgets/controls",
      "_model_module_version": "1.5.0",
      "_model_name": "HBoxModel",
      "_view_count": null,
      "_view_module": "@jupyter-widgets/controls",
      "_view_module_version": "1.5.0",
      "_view_name": "HBoxView",
      "box_style": "",
      "children": [
       "IPY_MODEL_596845b26af043d6a44d14aeffff3349",
       "IPY_MODEL_c87909e0310b4bc9b08c4862ee1d5bae",
       "IPY_MODEL_084e95570077463d843d3ed3add3b529"
      ],
      "layout": "IPY_MODEL_a3d581de3e7b4aed9f1ce3e894d1b904"
     }
    }
   }
  }
 },
 "nbformat": 4,
 "nbformat_minor": 0
}
