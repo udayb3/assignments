{
 "cells": [
  {
   "cell_type": "markdown",
   "metadata": {
    "id": "Uv4fQx1L1B9r"
   },
   "source": [
    "# **Lab HW 1**"
   ]
  },
  {
   "cell_type": "markdown",
   "metadata": {
    "id": "AVqZofA0056I"
   },
   "source": [
    "# **Q1) Remove emails from the given text using regular expressions**\n",
    "```python\n",
    "text = '''Dave Martin 615-555-7164 173 Main St., Springfield RI 55924 davemartin@gmail.com Charles Harris 800-555-5669 969 High St., Atlantis VA 34075 charlesharris@bogusemail.com Eric Williams 560-555-5153 806 1st St., Faketown AK 86847 laurawilliams@outlook.com'''\n",
    "```"
   ]
  },
  {
   "cell_type": "code",
   "execution_count": null,
   "metadata": {
    "colab": {
     "base_uri": "https://localhost:8080/"
    },
    "id": "UQ1eQteg1ZxF",
    "outputId": "104a2c42-802f-4be9-a47f-0601ab0b46d8"
   },
   "outputs": [],
   "source": [
    "import re\n",
    "\n",
    "text = \"Dave Martin 615-555-7164 173 Main St., Springfield RI 55924 davemartin@gmail.com Charles Harris 800-555-5669 969 High St., Atlantis VA 34075 charlesharris@bogusemail.com Eric Williams 560-555-5153 806 1st St., Faketown AK 86847 laurawilliams@outlook.com\"\n",
    "mails= re.findall(\"[a-zA-Z0-9]+@[a-zA-Z]*.com\", text)\n",
    "mails"
   ]
  },
  {
   "cell_type": "markdown",
   "metadata": {
    "id": "rD-PQQQt1V0l"
   },
   "source": [
    "## **Q2) Write a simple stemming implementation which can handle trailing S's and ing.**\n",
    "Corpus:\n",
    "\"The cats were jumping and playing while the dogs were barking.\n",
    "They were all enjoying the warm weather.\n",
    "A child was running around, chasing butterflies and singing happily.\n",
    "Others were fishing by the river, hoping to catch something.\n",
    "Some people were processing the fresh catch, preparing for a barbecue.\"\n"
   ]
  },
  {
   "cell_type": "code",
   "execution_count": null,
   "metadata": {
    "colab": {
     "base_uri": "https://localhost:8080/",
     "height": 52
    },
    "id": "KIfINJVK1aTf",
    "outputId": "2b47b4c5-f9ab-4337-e9b9-0ca86d12c707"
   },
   "outputs": [],
   "source": [
    "text2= \"The cats were jumping and playing while the dogs were barking. They were all enjoying the warm weather. A child was running around, chasing butterflies and singing happily. Others were fishing by the river, hoping to catch something. Some people were processing the fresh catch, preparing for a barbecue.\"\n",
    "def simple_stem(text):\n",
    "  sen= text.split(' '); new_sen=\"\"\n",
    "  for word in sen:\n",
    "    if(word.endswith(\"ing\")):\n",
    "      new_sen+= word[:-3] + \" \"\n",
    "    elif( word.endswith(\"s\") ):\n",
    "      new_sen+= word[:-1] + \" \"\n",
    "    elif( word.endswith(\"s.\")):\n",
    "      new_sen+= word[:-2] + \". \"\n",
    "    elif(word.endswith(\"ing.\")):\n",
    "      new_sen+= word[:-4] + \". \"\n",
    "    else:\n",
    "      new_sen+= word + \" \"\n",
    "\n",
    "  return new_sen[:-1]\n",
    "\n",
    "simple_stem(text2)"
   ]
  },
  {
   "cell_type": "markdown",
   "metadata": {
    "id": "lkshVBR21a-K"
   },
   "source": [
    "## **Q3) Pig Latin is a simple transformation of English text. Each word of the text is converted as follows: move any consonant (or consonant cluster) that appears at the start of the word to the end, then append ay, e.g. string → ingstray, idle → idleay. http://en.wikipedia.org/wiki/Pig_Latin**\n",
    "\n",
    " Write a function to convert a word to Pig Latin. Write code that converts text, instead of individual words. Extend it further to preserve capitalization, to keep qu together (i.e. so that quiet becomes ietquay), and to detect when y is used as a consonant (e.g. yellow) vs a vowel (e.g. style)."
   ]
  },
  {
   "cell_type": "code",
   "execution_count": null,
   "metadata": {
    "colab": {
     "base_uri": "https://localhost:8080/",
     "height": 34
    },
    "id": "5Ir3w9H11BGq",
    "outputId": "c4d8d536-6f6e-46d8-814a-a517bb8a3f2a"
   },
   "outputs": [],
   "source": [
    "vowel=['a', 'e', 'i', 'o', 'u']\n",
    "prefixes= ['qu']\n",
    "y_pref= ['b', 'c', 'd', 'f', 'g', 'h', 'j', 'k', 'l', 'm' ,'n', 'p', 'r', 's', 't', 'v', 'w', 'x','z']\n",
    "\n",
    "def word_en2piglat(word):\n",
    "  ind=0;\n",
    "  for i in range(len(word)):\n",
    "\n",
    "    # considering the case when y might be considered as a vowel, usually when it is written after a letter which make them sound like a vowel\n",
    "    if(i>0 and word[i]=='y' and word[i-1] in y_pref):\n",
    "        ind=i;\n",
    "        break\n",
    "\n",
    "    # checking for the first vowel\n",
    "    if(word[i] in vowel):\n",
    "      if(i>0 and word[i]=='u' and word[i-1]=='q'):\n",
    "        pass\n",
    "      else:\n",
    "        ind=i;\n",
    "        break\n",
    "\n",
    "  return word[ind:] + word[:ind] + \"ay\"\n",
    "\n",
    "\n",
    "def sen_en2piglat(sen):\n",
    "  words= sen.split(' ')\n",
    "  new_sen=\"\"\n",
    "  for word in words:\n",
    "    new_sen+= word_en2piglat(word.lower()) + \" \"\n",
    "  return new_sen[:-1]\n",
    "\n",
    "sen_en2piglat(\"It is great that he is here quiet style\")"
   ]
  },
  {
   "cell_type": "markdown",
   "metadata": {
    "id": "_Yr5qQ3V-q69"
   },
   "source": [
    "##**Q4)Calculate edit distance between two words-\"Board\" and \"Boord\" using the algorithm discussed in class.**\n",
    "  ## **Based on this edit distance implement spelling correction.**"
   ]
  },
  {
   "cell_type": "markdown",
   "metadata": {
    "id": "6IKCKIN-IXhV"
   },
   "source": [
    "- It is considered here that all the 3 operations: replace, insertion and deletion take 1 step."
   ]
  },
  {
   "cell_type": "code",
   "execution_count": null,
   "metadata": {
    "colab": {
     "base_uri": "https://localhost:8080/"
    },
    "id": "4PDCdtOc-4QA",
    "outputId": "e14fe725-d88b-40e1-a3a9-5d3aa4db3dad"
   },
   "outputs": [],
   "source": [
    "a:str= \"Board\"; b:str= \"Boord\"\n",
    "na= len(a); nb= len(b)\n",
    "# initializing the dynamming programming table\n",
    "dp= [[ max(i,j) if ( i==0 or j==0 ) else -1 for i in range(nb+1)] for j in range(na+1) ]\n",
    "\n",
    "# iterative approach to edit distance\n",
    "for i in range(1,na +1 ):\n",
    "  for j in range( 1, nb + 1 ):\n",
    "\n",
    "    if( a[i-1] == b[j-1] ):\n",
    "      dp[i][j]= dp[i-1][j-1]\n",
    "    else:\n",
    "      dp[i][j]= min( dp[i-1][j-1] + 1, dp[i][j-1] + 1 , dp[i-1][j] + 1 )\n",
    "\n",
    "print(f\"The Edit distance is {dp[na][nb]}.\")"
   ]
  }
 ],
 "metadata": {
  "colab": {
   "provenance": []
  },
  "kernelspec": {
   "display_name": "Python 3",
   "name": "python3"
  },
  "language_info": {
   "codemirror_mode": {
    "name": "ipython",
    "version": 3
   },
   "file_extension": ".py",
   "mimetype": "text/x-python",
   "name": "python",
   "nbconvert_exporter": "python",
   "pygments_lexer": "ipython3",
   "version": "3.12.4"
  }
 },
 "nbformat": 4,
 "nbformat_minor": 0
}
