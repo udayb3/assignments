{
 "cells": [
  {
   "cell_type": "markdown",
   "metadata": {},
   "source": [
    "# Assignment 5"
   ]
  },
  {
   "cell_type": "code",
   "execution_count": null,
   "metadata": {
    "colab": {
     "base_uri": "https://localhost:8080/"
    },
    "id": "YT02TTIRux_a",
    "outputId": "05a35dd9-c7e1-4d58-ab70-c4149dc5238b"
   },
   "outputs": [],
   "source": [
    "!pip install gym torch numpy"
   ]
  },
  {
   "cell_type": "markdown",
   "metadata": {
    "id": "eXyL9pG6u_Uk"
   },
   "source": [
    " #### Environment Setup\n",
    "- Initializing the **CartPole-v1** environment using the gymnasium library(maintained fork of OpenAI's gym ).\n",
    "- Retreving and print the state and action spaces of the environment.\n"
   ]
  },
  {
   "cell_type": "code",
   "execution_count": null,
   "metadata": {
    "colab": {
     "base_uri": "https://localhost:8080/"
    },
    "id": "FpJOdJmfv3nF",
    "outputId": "2f98853c-a109-40bf-eee5-cf097933fcbf"
   },
   "outputs": [],
   "source": [
    "import gym\n",
    "import torch\n",
    "import torch.nn as nn\n",
    "import torch.optim as optim\n",
    "import numpy as np\n",
    "import random\n",
    "from collections import deque\n",
    "import matplotlib.pyplot as plt\n",
    "\n",
    "# Initialize CartPole environment\n",
    "env = gym.make('CartPole-v1', render_mode='rgb_array')\n",
    "state_size = env.observation_space.shape[0]\n",
    "action_size = env.action_space.n\n",
    "print(\"State size:\", state_size)\n",
    "print(\"Action size:\", action_size)"
   ]
  },
  {
   "cell_type": "markdown",
   "metadata": {
    "id": "Lak_yCbfw4jM"
   },
   "source": [
    "#### Build the DQN Model\n",
    "- Creating a neural network class DQN with 4 fully connected layers.\n",
    "- `state_size` is taken as input and action_size Q-values are output.\n"
   ]
  },
  {
   "cell_type": "code",
   "execution_count": null,
   "metadata": {
    "id": "FDd0n7kAxKEb"
   },
   "outputs": [],
   "source": [
    "import torch\n",
    "import torch.nn as nn\n",
    "import torch.nn.functional as F\n",
    "\n",
    "# The linear layers are fully connected with Relu being used as the activation function\n",
    "class DQN(nn.Module):\n",
    "  def __init__(self, state_size, action_size, hidden_size=64):\n",
    "    super(DQN, self).__init__()\n",
    "\n",
    "    self.fc1 = nn.Linear(state_size, hidden_size)\n",
    "    self.fc2 = nn.Linear(hidden_size, hidden_size)\n",
    "    self.fc3 = nn.Linear(hidden_size, hidden_size)\n",
    "    self.fc4= nn.Linear(hidden_size, action_size)\n",
    "\n",
    "  def forward(self, x):\n",
    "    x = F.relu(self.fc1(x))\n",
    "    x = F.relu(self.fc2(x))\n",
    "    x = F.relu(self.fc3(x))\n",
    "    x = self.fc4(x)\n",
    "    return x"
   ]
  },
  {
   "cell_type": "markdown",
   "metadata": {
    "id": "XWnrLZ21xK5b"
   },
   "source": [
    "#### Implement the Replay Buffer\n",
    "- Creating a ReplayBuffer class using Python’s deque.\n",
    "- Implementing methods to add new experiences(such as state, action, reward, etc.) and sample a batch of experiences."
   ]
  },
  {
   "cell_type": "code",
   "execution_count": null,
   "metadata": {
    "id": "KomzxEtvxWJL"
   },
   "outputs": [],
   "source": [
    "import random\n",
    "from collections import deque\n",
    "\n",
    "class ReplayBuffer:\n",
    "  def __init__(self, capacity):\n",
    "    self.buffer = deque(maxlen=capacity)\n",
    "\n",
    "  def add(self, state, action, reward, nxt_state, comp):\n",
    "    exp = (state, action, reward, nxt_state, comp)\n",
    "    self.buffer.append(exp)\n",
    "\n",
    "  def sample(self, batch_size):\n",
    "    batch = random.sample(self.buffer, batch_size)\n",
    "    states, actions, rewards, next_states, dones = zip(*batch)\n",
    "    return (np.array(states), np.array(actions), np.array(rewards), np.array(next_states), np.array(dones))\n",
    "\n",
    "  def __len__(self):\n",
    "    return len(self.buffer)"
   ]
  },
  {
   "cell_type": "markdown",
   "metadata": {
    "id": "3KBtJcWWxay7"
   },
   "source": [
    "#### Defining the DQN Agent\n",
    "\n",
    "- Initializing the main and target networks, optimizer, and epsilon variables in **DQNAgent**.\n",
    "- Implementing methods for choosing an action (**get_action**) and updating the target network (**update_target_network**).\n",
    "- Adding a train method in DQNAgent to sample from the buffer and train the model.\n",
    "- Using the Mean Squared Loss as the Loss function."
   ]
  },
  {
   "cell_type": "code",
   "execution_count": null,
   "metadata": {
    "colab": {
     "base_uri": "https://localhost:8080/"
    },
    "id": "Y6prHmALxjob",
    "outputId": "401e5553-0e09-4536-8b70-d21d600571d5"
   },
   "outputs": [],
   "source": [
    "import torch\n",
    "import torch.nn as nn\n",
    "import torch.optim as optim\n",
    "import numpy as np\n",
    "import random\n",
    "\n",
    "class DQNAgent:\n",
    "  def __init__(self, state_dim, action_dim, hidden_dim=64, lr=0.001, gamma=0.99, epsilon=1.0, epsilon_min=0.01, epsilon_decay=0.995):\n",
    "    self.state_dim = state_dim\n",
    "    self.action_dim = action_dim\n",
    "    self.gamma = gamma\n",
    "    self.epsilon = epsilon\n",
    "    self.epsilon_min = epsilon_min\n",
    "    self.epsilon_decay = epsilon_decay\n",
    "\n",
    "    # Initializing the main and target network\n",
    "    self.main_network = DQN(state_dim, action_dim, hidden_dim)\n",
    "    self.target_network = DQN(state_dim, action_dim, hidden_dim)\n",
    "    self.update_target_network()\n",
    "\n",
    "    # Using Adam as the optimizer and setting mse as the loss function\n",
    "    self.optimizer = optim.Adam(self.main_network.parameters(), lr=lr)\n",
    "    self.loss_fn = nn.MSELoss()\n",
    "\n",
    "  # here the epsilo-greedy policy is used, implying ki as we go forward exploration is reduced and more focus is given on exploitation\n",
    "  def get_action(self, state):\n",
    "    if random.random() < self.epsilon:\n",
    "        action = random.choice(range(self.action_dim))\n",
    "    else:\n",
    "        state_tensor = torch.FloatTensor(state).unsqueeze(0)\n",
    "        with torch.no_grad():\n",
    "            q_values = self.main_network(state_tensor)\n",
    "        action = torch.argmax(q_values).item()\n",
    "    return action\n",
    "\n",
    "  def update_target_network(self):\n",
    "    self.target_network.load_state_dict(self.main_network.state_dict())\n",
    "\n",
    "  def update_epsilon(self):\n",
    "    self.epsilon = max(self.epsilon_min, self.epsilon * self.epsilon_decay)\n",
    "\n",
    "  def train(self, replay_buffer, batch_size):\n",
    "    if len(replay_buffer) < batch_size:\n",
    "        return\n",
    "\n",
    "    # Sampling batch of experiences from the replay buffer\n",
    "    states, actions, rewards, next_states, dones = replay_buffer.sample(batch_size)\n",
    "\n",
    "    # Convert to torch tensors\n",
    "    states = torch.FloatTensor(states)\n",
    "    actions = torch.LongTensor(actions).unsqueeze(1)\n",
    "    rewards = torch.FloatTensor(rewards)\n",
    "    next_states = torch.FloatTensor(next_states)\n",
    "    dones = torch.FloatTensor(dones)\n",
    "\n",
    "    # Finding the Q(s, a) using the main network\n",
    "    q_values = self.main_network(states).gather(1, actions).squeeze()\n",
    "\n",
    "    # Finding target Q-values using the target network\n",
    "    with torch.no_grad():\n",
    "        next_q_values = self.target_network(next_states).max(1)[0]\n",
    "        target_q_values = rewards + self.gamma * next_q_values * (1 - dones)\n",
    "\n",
    "    loss = self.loss_fn(q_values, target_q_values)\n",
    "\n",
    "    # backpropagation and optimization and finally updating the epsilon\n",
    "    self.optimizer.zero_grad()\n",
    "    loss.backward()\n",
    "    self.optimizer.step()\n",
    "    self.update_epsilon()"
   ]
  },
  {
   "cell_type": "markdown",
   "metadata": {
    "id": "Dc5N819VxvR6"
   },
   "source": [
    "#### Training the DQN Agent\n",
    "- Train the agent over 600 episodes."
   ]
  },
  {
   "cell_type": "code",
   "execution_count": null,
   "metadata": {
    "colab": {
     "base_uri": "https://localhost:8080/"
    },
    "id": "5F7rg8Xfx5t5",
    "outputId": "dd56f0b9-9b4d-4599-f86b-a22521c54011"
   },
   "outputs": [],
   "source": [
    "import gym\n",
    "import torch\n",
    "import numpy as np\n",
    "import matplotlib.pyplot as plt\n",
    "\n",
    "# Hyperparameters\n",
    "hidden_dim = 64;  lr = 0.001\n",
    "gamma = 0.99\n",
    "epsilon = 1.0\n",
    "epsilon_min = 0.01\n",
    "epsilon_decay = 0.995\n",
    "capacity = 10000\n",
    "batch_size = 64\n",
    "n_eps = 500\n",
    "\n",
    "# Initialising the agent and the replay buffer\n",
    "agent = DQNAgent( state_size, action_size, hidden_dim, lr, gamma, epsilon, epsilon_min, epsilon_decay)\n",
    "replay_buffer = ReplayBuffer(capacity)\n",
    "\n",
    "# List to keep track of rewards\n",
    "rewards_list = []\n",
    "for episode in range(n_eps):\n",
    "    state = env.reset()\n",
    "    total_reward = 0\n",
    "\n",
    "    while True:\n",
    "        # finding action from the agent\n",
    "        action = agent.get_action(state)\n",
    "\n",
    "        # Taking the action in the environment and finding reward associated\n",
    "        next_state, reward, done, _ = env.step(action)\n",
    "        total_reward += reward\n",
    "\n",
    "        # Storing this experience in buffer\n",
    "        replay_buffer.add(state, action, reward, next_state, done)\n",
    "\n",
    "        agent.train(replay_buffer, batch_size)\n",
    "        state = next_state\n",
    "\n",
    "        if done:\n",
    "            break\n",
    "\n",
    "    # Append the total reward of this episode to rewards_list\n",
    "    rewards_list.append(total_reward)\n",
    "    if episode % 10 == 0:\n",
    "        agent.update_target_network()\n",
    "    if episode % 50 == 0:\n",
    "        print(f\"Episode {episode}, Total Reward: {total_reward}, Epsilon: {agent.epsilon:.3f}\")\n",
    "\n",
    "env.close()"
   ]
  },
  {
   "cell_type": "markdown",
   "metadata": {
    "id": "Qr-kwgh91JpI"
   },
   "source": [
    "#### Visualizing Training Performance\n",
    "Plotting rewards across episodes to observe the learning curve."
   ]
  },
  {
   "cell_type": "code",
   "execution_count": null,
   "metadata": {
    "colab": {
     "base_uri": "https://localhost:8080/",
     "height": 718
    },
    "id": "1SToz0Ap1KRv",
    "outputId": "57699525-ed33-4995-d589-619e32e6fa8b"
   },
   "outputs": [],
   "source": [
    "import matplotlib.pyplot as plt\n",
    "\n",
    "plt.figure(figsize=(16, 8))\n",
    "plt.plot(rewards_list)\n",
    "plt.xlabel(\"Episode\"); plt.ylabel(\"Reward\")\n",
    "plt.title(\"DQN Training Rewards\")\n",
    "plt.show()"
   ]
  },
  {
   "cell_type": "markdown",
   "metadata": {
    "id": "qg-6JzUKunMF"
   },
   "source": [
    "#### Refrences\n",
    "\n",
    "- https://www.geeksforgeeks.org/q-learning-in-python/\n",
    "- https://www.geeksforgeeks.org/deep-q-learning/\n",
    "- https://www.geeksforgeeks.org/how-are-neural-networks-used-in-deep-q-learning/\n",
    "- https://huggingface.co/learn/deep-rl-course/en/unit3/deep-q-algorithm"
   ]
  }
 ],
 "metadata": {
  "colab": {
   "provenance": []
  },
  "kernelspec": {
   "display_name": "Python 3",
   "name": "python3"
  },
  "language_info": {
   "name": "python"
  }
 },
 "nbformat": 4,
 "nbformat_minor": 0
}
